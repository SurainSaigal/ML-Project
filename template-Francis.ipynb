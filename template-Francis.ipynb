{
 "cells": [
  {
   "cell_type": "markdown",
   "id": "88c104cc-bf08-4242-821b-b3a40908152a",
   "metadata": {
    "papermill": {},
    "tags": []
   },
   "source": [
    "<img width=\"8%\" alt=\"Naas.png\" src=\"https://raw.githubusercontent.com/jupyter-naas/awesome-notebooks/master/.github/assets/logos/Naas.png\" style=\"border-radius: 15%\">"
   ]
  },
  {
   "cell_type": "markdown",
   "id": "compressed-wilson",
   "metadata": {
    "papermill": {},
    "tags": []
   },
   "source": [
    "# Tool - Action of the notebook"
   ]
  },
  {
   "cell_type": "markdown",
   "id": "religious-programmer",
   "metadata": {},
   "source": [
    "**Tags:** #tool"
   ]
  },
  {
   "cell_type": "markdown",
   "id": "1fe9f56e-561c-4f52-aef8-b861c9462107",
   "metadata": {},
   "source": [
    "**Author:** [Firstname Lastname](https://www.linkedin.com/)"
   ]
  },
  {
   "cell_type": "markdown",
   "id": "0de144be-594d-463e-9849-696fb2f6d1a8",
   "metadata": {},
   "source": [
    "**Last update:** YYYY-MM-DD (Created: YYYY-MM-DD)"
   ]
  },
  {
   "cell_type": "markdown",
   "id": "31ea7cdb-e10d-43fc-b026-f69249a59736",
   "metadata": {},
   "source": [
    "**Description:** This notebook demonstrates how to ... -> a one-liner explaining the benefits of the notebooks for the user, as text."
   ]
  },
  {
   "cell_type": "markdown",
   "id": "d4b89388-5cd5-409a-8169-c53cc8dfab96",
   "metadata": {},
   "source": [
    "**References:**\n",
    "- [Naas Documentation](https://site.naas.ai/)"
   ]
  },
  {
   "cell_type": "markdown",
   "id": "distinguished-truth",
   "metadata": {
    "papermill": {},
    "tags": []
   },
   "source": [
    "## Input"
   ]
  },
  {
   "cell_type": "markdown",
   "id": "numeric-mediterranean",
   "metadata": {},
   "source": [
    "### Import libraries\n",
    "Libraries to be used within the notebook.<br>\n",
    "If these libraries are not installed on Naas, ensure they are installed during the first execution by using a `try`/`except` function to import the package."
   ]
  },
  {
   "cell_type": "code",
   "execution_count": 14,
   "id": "potential-surfing",
   "metadata": {
    "tags": []
   },
   "outputs": [],
   "source": [
    "import random\n",
    "import numpy as np\n",
    "import pandas as pd\n",
    "import matplotlib.pyplot as plt\n",
    "from numpy.random import rand\n",
    "from numpy import square, sqrt\n",
    "from pandas import DataFrame"
   ]
  },
  {
   "cell_type": "code",
   "execution_count": 15,
   "id": "2b83d3e8",
   "metadata": {},
   "outputs": [],
   "source": [
    "# Enable inline mode for matplotlib so that IPython displays graphs.\n",
    "%matplotlib inline"
   ]
  },
  {
   "cell_type": "markdown",
   "id": "aggressive-trustee",
   "metadata": {},
   "source": [
    "### Setup variables\n",
    "Variables used in this notebook should be categorized as either mandatory or optional and should be clearly described. The aim of defining these variables in the input section is to facilitate use of the notebook by any user, allowing them to interact with it without the need to modify functions in the model section.\n",
    "\n",
    "\n",
    "**Mandatory**\n",
    "\n",
    "- `stock_name`: This variable represents the stock symbol for which you want to fetch data. In this case, 'NFLX' stands for Netflix.\n",
    "\n",
    "\n",
    "**Optional**\n",
    "\n",
    "- `date_from`: This variable defines the starting date from which you want to fetch the stock data. It's set to '-3600', which likely represents 3600 days before the current date.\n",
    "- `date_to`: This variable defines the end date up to which you want to fetch the stock data. When set to 'today', it fetches data up to the current date.\n",
    "- `moving_averages`: This is a list of integers representing the number of days for which you want to calculate the moving average of the stock price. In this case, moving averages will be calculated for the past 20 and 50 days.\n",
    "- `csv_output`: This variable represents the name of the CSV file where the fetched data will be saved. In this case, the file will be named 'MY_OUTPUT.csv'."
   ]
  },
  {
   "cell_type": "code",
   "execution_count": 16,
   "id": "continuous-melbourne",
   "metadata": {},
   "outputs": [
    {
     "data": {
      "text/html": [
       "<div>\n",
       "<style scoped>\n",
       "    .dataframe tbody tr th:only-of-type {\n",
       "        vertical-align: middle;\n",
       "    }\n",
       "\n",
       "    .dataframe tbody tr th {\n",
       "        vertical-align: top;\n",
       "    }\n",
       "\n",
       "    .dataframe thead th {\n",
       "        text-align: right;\n",
       "    }\n",
       "</style>\n",
       "<table border=\"1\" class=\"dataframe\">\n",
       "  <thead>\n",
       "    <tr style=\"text-align: right;\">\n",
       "      <th></th>\n",
       "      <th>Warehouse_block</th>\n",
       "      <th>Mode_of_Shipment</th>\n",
       "      <th>Customer_care_calls</th>\n",
       "      <th>Customer_rating</th>\n",
       "      <th>Cost_of_the_Product</th>\n",
       "      <th>Prior_purchases</th>\n",
       "      <th>Product_importance</th>\n",
       "      <th>Gender</th>\n",
       "      <th>Discount_offered</th>\n",
       "      <th>Weight_in_gms</th>\n",
       "      <th>Reached.on.Time_Y.N</th>\n",
       "    </tr>\n",
       "  </thead>\n",
       "  <tbody>\n",
       "    <tr>\n",
       "      <th>0</th>\n",
       "      <td>D</td>\n",
       "      <td>Flight</td>\n",
       "      <td>4</td>\n",
       "      <td>2</td>\n",
       "      <td>177</td>\n",
       "      <td>3</td>\n",
       "      <td>low</td>\n",
       "      <td>F</td>\n",
       "      <td>44</td>\n",
       "      <td>1233</td>\n",
       "      <td>1</td>\n",
       "    </tr>\n",
       "    <tr>\n",
       "      <th>1</th>\n",
       "      <td>F</td>\n",
       "      <td>Flight</td>\n",
       "      <td>4</td>\n",
       "      <td>5</td>\n",
       "      <td>216</td>\n",
       "      <td>2</td>\n",
       "      <td>low</td>\n",
       "      <td>M</td>\n",
       "      <td>59</td>\n",
       "      <td>3088</td>\n",
       "      <td>1</td>\n",
       "    </tr>\n",
       "    <tr>\n",
       "      <th>2</th>\n",
       "      <td>A</td>\n",
       "      <td>Flight</td>\n",
       "      <td>2</td>\n",
       "      <td>2</td>\n",
       "      <td>183</td>\n",
       "      <td>4</td>\n",
       "      <td>low</td>\n",
       "      <td>M</td>\n",
       "      <td>48</td>\n",
       "      <td>3374</td>\n",
       "      <td>1</td>\n",
       "    </tr>\n",
       "    <tr>\n",
       "      <th>3</th>\n",
       "      <td>B</td>\n",
       "      <td>Flight</td>\n",
       "      <td>3</td>\n",
       "      <td>3</td>\n",
       "      <td>176</td>\n",
       "      <td>4</td>\n",
       "      <td>medium</td>\n",
       "      <td>M</td>\n",
       "      <td>10</td>\n",
       "      <td>1177</td>\n",
       "      <td>1</td>\n",
       "    </tr>\n",
       "    <tr>\n",
       "      <th>4</th>\n",
       "      <td>C</td>\n",
       "      <td>Flight</td>\n",
       "      <td>2</td>\n",
       "      <td>2</td>\n",
       "      <td>184</td>\n",
       "      <td>3</td>\n",
       "      <td>medium</td>\n",
       "      <td>F</td>\n",
       "      <td>46</td>\n",
       "      <td>2484</td>\n",
       "      <td>1</td>\n",
       "    </tr>\n",
       "  </tbody>\n",
       "</table>\n",
       "</div>"
      ],
      "text/plain": [
       "  Warehouse_block Mode_of_Shipment  Customer_care_calls  Customer_rating  \\\n",
       "0               D           Flight                    4                2   \n",
       "1               F           Flight                    4                5   \n",
       "2               A           Flight                    2                2   \n",
       "3               B           Flight                    3                3   \n",
       "4               C           Flight                    2                2   \n",
       "\n",
       "   Cost_of_the_Product  Prior_purchases Product_importance Gender  \\\n",
       "0                  177                3                low      F   \n",
       "1                  216                2                low      M   \n",
       "2                  183                4                low      M   \n",
       "3                  176                4             medium      M   \n",
       "4                  184                3             medium      F   \n",
       "\n",
       "   Discount_offered  Weight_in_gms  Reached.on.Time_Y.N  \n",
       "0                44           1233                    1  \n",
       "1                59           3088                    1  \n",
       "2                48           3374                    1  \n",
       "3                10           1177                    1  \n",
       "4                46           2484                    1  "
      ]
     },
     "execution_count": 16,
     "metadata": {},
     "output_type": "execute_result"
    }
   ],
   "source": [
    "# get data from text file\n",
    "df = pd.read_csv(\"dataset.csv\")\n",
    "\n",
    "#drop ID column\n",
    "df = df.drop(df.columns[0], axis=1)\n",
    "\n",
    "df.head()"
   ]
  },
  {
   "cell_type": "code",
   "execution_count": 17,
   "id": "885e5ef0",
   "metadata": {},
   "outputs": [
    {
     "data": {
      "image/png": "[encoded data removed]",
      "text/plain": [
       "<Figure size 640x480 with 1 Axes>"
      ]
     },
     "metadata": {},
     "output_type": "display_data"
    },
    {
     "name": "stdout",
     "output_type": "stream",
     "text": [
      "Chi-squared statistic: [0.86654644 0.12814262]\n",
      "p-value: [0.35191318 0.72036566]\n"
     ]
    }
   ],
   "source": [
    "from scipy.stats import chisquare\n",
    "\n",
    "gender_vs_time = df.groupby(['Gender', 'Reached.on.Time_Y.N']).size().unstack().T\n",
    "\n",
    "\n",
    "gender_vs_time.plot(kind='bar', stacked=True)\n",
    "\n",
    "# Display the graph\n",
    "plt.show()\n",
    "\n",
    "#probably drop gender, roughly equal\n",
    "\n",
    "tab = pd.crosstab(df['Gender'], df['Reached.on.Time_Y.N'])\n",
    "\n",
    "chi, p_value = chisquare(tab)\n",
    "\n",
    "print(\"Chi-squared statistic:\", chi)\n",
    "print(\"p-value:\", p_value)"
   ]
  },
  {
   "cell_type": "code",
   "execution_count": 18,
   "id": "5c909ca6",
   "metadata": {},
   "outputs": [
    {
     "data": {
      "image/png": "[encoded data removed]",
      "text/plain": [
       "<Figure size 640x480 with 1 Axes>"
      ]
     },
     "metadata": {},
     "output_type": "display_data"
    },
    {
     "name": "stdout",
     "output_type": "stream",
     "text": [
      "Chi-squared statistic: [482.34310189 740.16090203]\n",
      "p-value: [4.41214072e-103 7.00761672e-159]\n"
     ]
    }
   ],
   "source": [
    "ware_vs_time = df.groupby(['Warehouse_block', 'Reached.on.Time_Y.N']).size().unstack().T\n",
    "\n",
    "\n",
    "ware_vs_time.plot(kind='bar', stacked=True)\n",
    "\n",
    "# Display the graph\n",
    "plt.show()\n",
    "\n",
    "tab = pd.crosstab(df['Warehouse_block'], df['Reached.on.Time_Y.N'])\n",
    "\n",
    "chi, p_value = chisquare(tab)\n",
    "\n",
    "print(\"Chi-squared statistic:\", chi)\n",
    "print(\"p-value:\", p_value)"
   ]
  },
  {
   "cell_type": "code",
   "execution_count": 19,
   "id": "a1106e76",
   "metadata": {},
   "outputs": [
    {
     "data": {
      "image/png": "[encoded data removed]",
      "text/plain": [
       "<Figure size 640x480 with 1 Axes>"
      ]
     },
     "metadata": {},
     "output_type": "display_data"
    },
    {
     "name": "stdout",
     "output_type": "stream",
     "text": [
      "Chi-squared statistic: [2357.21325518 3537.56391894]\n",
      "p-value: [0. 0.]\n"
     ]
    }
   ],
   "source": [
    "mode_vs_time = df.groupby(['Mode_of_Shipment', 'Reached.on.Time_Y.N']).size().unstack().T\n",
    "\n",
    "\n",
    "mode_vs_time.plot(kind='bar', stacked=True)\n",
    "\n",
    "# Display the graph\n",
    "plt.show()\n",
    "\n",
    "tab = pd.crosstab(df['Mode_of_Shipment'], df['Reached.on.Time_Y.N'])\n",
    "\n",
    "chi, p_value = chisquare(tab)\n",
    "\n",
    "print(\"Chi-squared statistic:\", chi)\n",
    "print(\"p-value:\", p_value)"
   ]
  },
  {
   "cell_type": "code",
   "execution_count": 20,
   "id": "1483135b",
   "metadata": {},
   "outputs": [
    {
     "data": {
      "image/png": "[encoded data removed]",
      "text/plain": [
       "<Figure size 640x480 with 1 Axes>"
      ]
     },
     "metadata": {},
     "output_type": "display_data"
    },
    {
     "name": "stdout",
     "output_type": "stream",
     "text": [
      "Chi-squared statistic: [1348.72633003 1719.02270303]\n",
      "p-value: [1.34214252e-293 0.00000000e+000]\n"
     ]
    }
   ],
   "source": [
    "importance_vs_time = df.groupby(['Product_importance', 'Reached.on.Time_Y.N']).size().unstack().T\n",
    "importance_vs_time.plot(kind='bar', stacked=True)\n",
    "\n",
    "# Display the graph\n",
    "plt.show()\n",
    "\n",
    "tab = pd.crosstab(df['Product_importance'], df['Reached.on.Time_Y.N'])\n",
    "\n",
    "chi, p_value = chisquare(tab)\n",
    "\n",
    "print(\"Chi-squared statistic:\", chi)\n",
    "print(\"p-value:\", p_value)"
   ]
  },
  {
   "cell_type": "markdown",
   "id": "registered-showcase",
   "metadata": {},
   "source": [
    "## Model"
   ]
  },
  {
   "cell_type": "code",
   "execution_count": 21,
   "id": "44d039c8",
   "metadata": {},
   "outputs": [],
   "source": [
    "#Dropping Gender, Customer Rating, Customer_care_calls, Prior Purchases"
   ]
  },
  {
   "cell_type": "code",
   "execution_count": 22,
   "id": "c9392c52",
   "metadata": {},
   "outputs": [
    {
     "name": "stdout",
     "output_type": "stream",
     "text": [
      "  Warehouse_block Mode_of_Shipment  Cost_of_the_Product Product_importance  \\\n",
      "0               D           Flight                  177                low   \n",
      "1               F           Flight                  216                low   \n",
      "2               A           Flight                  183                low   \n",
      "3               B           Flight                  176             medium   \n",
      "4               C           Flight                  184             medium   \n",
      "\n",
      "   Discount_offered  Weight_in_gms  Reached.on.Time_Y.N  \n",
      "0                44           1233                    1  \n",
      "1                59           3088                    1  \n",
      "2                48           3374                    1  \n",
      "3                10           1177                    1  \n",
      "4                46           2484                    1  \n"
     ]
    }
   ],
   "source": [
    "df.drop(['Gender', 'Customer_rating', 'Customer_care_calls', 'Prior_purchases'], axis=1, inplace=True)\n",
    "print(df.head())"
   ]
  },
  {
   "cell_type": "markdown",
   "id": "eede69a0",
   "metadata": {},
   "source": [
    "# Naive Bayes Approach"
   ]
  },
  {
   "cell_type": "markdown",
   "id": "91c67b6d",
   "metadata": {},
   "source": [
    "First, we have to import the necessary libraries for this approach to work"
   ]
  },
  {
   "cell_type": "code",
   "execution_count": 28,
   "id": "cdcf30c0",
   "metadata": {},
   "outputs": [],
   "source": [
    "from sklearn.model_selection import train_test_split\n",
    "from sklearn.naive_bayes import CategoricalNB\n",
    "from sklearn.metrics import accuracy_score, classification_report\n",
    "from sklearn.preprocessing import LabelEncoder\n",
    "import matplotlib.pyplot as plt\n",
    "import seaborn as sns"
   ]
  },
  {
   "cell_type": "markdown",
   "id": "9c96f18f",
   "metadata": {},
   "source": [
    "## Prepare the dataset"
   ]
  },
  {
   "cell_type": "markdown",
   "id": "cf43d10e",
   "metadata": {},
   "source": [
    "Separate features (X) from target (Y): \n",
    "The target variable is what we are trying to predict, so it should be \"Reached on Time\". \n",
    "It is separated from the input features. X contains all other columns which are the features used to predict the target while\n",
    "Y contains the target."
   ]
  },
  {
   "cell_type": "code",
   "execution_count": 29,
   "id": "9f98bffc",
   "metadata": {},
   "outputs": [
    {
     "name": "stdout",
     "output_type": "stream",
     "text": [
      "\n",
      "Features (first 5 rows):\n",
      "  Warehouse_block Mode_of_Shipment  Cost_of_the_Product Product_importance  \\\n",
      "0               D           Flight                  177                low   \n",
      "1               F           Flight                  216                low   \n",
      "2               A           Flight                  183                low   \n",
      "3               B           Flight                  176             medium   \n",
      "4               C           Flight                  184             medium   \n",
      "\n",
      "   Discount_offered  Weight_in_gms  \n",
      "0                44           1233  \n",
      "1                59           3088  \n",
      "2                48           3374  \n",
      "3                10           1177  \n",
      "4                46           2484  \n",
      "\n",
      "Target variable sample:\n",
      "0    1\n",
      "1    1\n",
      "2    1\n",
      "3    1\n",
      "4    1\n",
      "Name: Reached.on.Time_Y.N, dtype: int64\n"
     ]
    }
   ],
   "source": [
    "X = df.drop('Reached.on.Time_Y.N', axis=1)\n",
    "y = df['Reached.on.Time_Y.N']\n",
    "\n",
    "# Displaying to make sure we correctly seperated the target from the rest of the variables.\n",
    "\n",
    "print(\"\\nFeatures (first 5 rows):\")\n",
    "print(X.head())\n",
    "print(\"\\nTarget variable sample:\")\n",
    "print(y.head())"
   ]
  },
  {
   "cell_type": "markdown",
   "id": "5e40cf93",
   "metadata": {},
   "source": [
    "## Encode Categorical Data"
   ]
  },
  {
   "cell_type": "markdown",
   "id": "519d3248",
   "metadata": {},
   "source": [
    "When encoding categorical feautures, many ML algorithms, such as Naive Bayes, require the input to be numeric. Because of this, we need a converter. \"LabelEncoder\" will convert categorical labels into a numerical format. Each unique category in a column is assigned a numerical id. This process is applied to all columns that are of object type (typically strings or categories). This is a crucial step because it turns the data into a suitable format for training ML models."
   ]
  },
  {
   "cell_type": "code",
   "execution_count": 31,
   "id": "c08575a3",
   "metadata": {},
   "outputs": [
    {
     "name": "stdout",
     "output_type": "stream",
     "text": [
      "\n",
      "Encoded data sample (first 5 rows):\n",
      "   Warehouse_block  Mode_of_Shipment  Cost_of_the_Product  Product_importance  \\\n",
      "0                3                 0                  177                   1   \n",
      "1                4                 0                  216                   1   \n",
      "2                0                 0                  183                   1   \n",
      "3                1                 0                  176                   2   \n",
      "4                2                 0                  184                   2   \n",
      "\n",
      "   Discount_offered  Weight_in_gms  \n",
      "0                44           1233  \n",
      "1                59           3088  \n",
      "2                48           3374  \n",
      "3                10           1177  \n",
      "4                46           2484  \n"
     ]
    }
   ],
   "source": [
    "label_encoders = {}\n",
    "for column in X.select_dtypes(include=['object']).columns:\n",
    "    # initializes a label encoder for each categorical column\n",
    "    le = LabelEncoder()\n",
    "    X[column] = le.fit_transform(X[column])\n",
    "    label_encoders[column] = le\n",
    "    \n",
    "# example of encoded data to ensure correctness\n",
    "print(\"\\nEncoded data sample (first 5 rows):\")\n",
    "print(X.head())"
   ]
  },
  {
   "cell_type": "markdown",
   "id": "ad971ba2",
   "metadata": {},
   "source": [
    "## Split the Data into Training and Testing Sets"
   ]
  },
  {
   "cell_type": "markdown",
   "id": "d10e4bd2",
   "metadata": {},
   "source": [
    "Splitting data is extremely important on the issue of validating the model. The reason for this step is that it will separate a portion of the data into a testing set. This set will not be seen by the model during training, otherwise this will be known as \"data leakage\", a real danger in the ML world. This step helps in the evaluation on how well the model performs on unseen data. Setting the test_size = 0.3 just means that 30% of the data is used for testing. The variable random_state ensures that the splits are reproducible (guarantees that you get same split everytime it is run)."
   ]
  },
  {
   "cell_type": "code",
   "execution_count": 38,
   "id": "10c13db0",
   "metadata": {},
   "outputs": [
    {
     "name": "stdout",
     "output_type": "stream",
     "text": [
      "\n",
      "Training set size: 7699\n",
      "Testing set size: 3300\n"
     ]
    }
   ],
   "source": [
    "X_train, X_test, y_train, y_test = train_test_split(X, y, test_size=0.3, random_state=42)\n",
    "\n",
    "# showcases the sizes of the training and testing datasets\n",
    "print(\"\\nTraining set size:\", X_train.shape[0])\n",
    "print(\"Testing set size:\", X_test.shape[0])"
   ]
  },
  {
   "cell_type": "markdown",
   "id": "7dc91d12",
   "metadata": {},
   "source": [
    "## Initialize and Train the Naive Bayes Classifier"
   ]
  },
  {
   "cell_type": "markdown",
   "id": "9f8ff74b",
   "metadata": {},
   "source": [
    "CategoricalNB() helps initialize the model. It creates an instance of the Naive Bayes classifier for categorical data.\n",
    "The other line of code is how we train the model. The \"fit method\" will train the model using training data (X_train and y_train). The model will learn the probability of each category within the features relative to the target variable (Reached on Time). "
   ]
  },
  {
   "cell_type": "code",
   "execution_count": 39,
   "id": "285e15e8",
   "metadata": {},
   "outputs": [
    {
     "data": {
      "text/html": [
       "<style>#sk-container-id-3 {color: black;}#sk-container-id-3 pre{padding: 0;}#sk-container-id-3 div.sk-toggleable {background-color: white;}#sk-container-id-3 label.sk-toggleable__label {cursor: pointer;display: block;width: 100%;margin-bottom: 0;padding: 0.3em;box-sizing: border-box;text-align: center;}#sk-container-id-3 label.sk-toggleable__label-arrow:before {content: \"▸\";float: left;margin-right: 0.25em;color: #696969;}#sk-container-id-3 label.sk-toggleable__label-arrow:hover:before {color: black;}#sk-container-id-3 div.sk-estimator:hover label.sk-toggleable__label-arrow:before {color: black;}#sk-container-id-3 div.sk-toggleable__content {max-height: 0;max-width: 0;overflow: hidden;text-align: left;background-color: #f0f8ff;}#sk-container-id-3 div.sk-toggleable__content pre {margin: 0.2em;color: black;border-radius: 0.25em;background-color: #f0f8ff;}#sk-container-id-3 input.sk-toggleable__control:checked~div.sk-toggleable__content {max-height: 200px;max-width: 100%;overflow: auto;}#sk-container-id-3 input.sk-toggleable__control:checked~label.sk-toggleable__label-arrow:before {content: \"▾\";}#sk-container-id-3 div.sk-estimator input.sk-toggleable__control:checked~label.sk-toggleable__label {background-color: #d4ebff;}#sk-container-id-3 div.sk-label input.sk-toggleable__control:checked~label.sk-toggleable__label {background-color: #d4ebff;}#sk-container-id-3 input.sk-hidden--visually {border: 0;clip: rect(1px 1px 1px 1px);clip: rect(1px, 1px, 1px, 1px);height: 1px;margin: -1px;overflow: hidden;padding: 0;position: absolute;width: 1px;}#sk-container-id-3 div.sk-estimator {font-family: monospace;background-color: #f0f8ff;border: 1px dotted black;border-radius: 0.25em;box-sizing: border-box;margin-bottom: 0.5em;}#sk-container-id-3 div.sk-estimator:hover {background-color: #d4ebff;}#sk-container-id-3 div.sk-parallel-item::after {content: \"\";width: 100%;border-bottom: 1px solid gray;flex-grow: 1;}#sk-container-id-3 div.sk-label:hover label.sk-toggleable__label {background-color: #d4ebff;}#sk-container-id-3 div.sk-serial::before {content: \"\";position: absolute;border-left: 1px solid gray;box-sizing: border-box;top: 0;bottom: 0;left: 50%;z-index: 0;}#sk-container-id-3 div.sk-serial {display: flex;flex-direction: column;align-items: center;background-color: white;padding-right: 0.2em;padding-left: 0.2em;position: relative;}#sk-container-id-3 div.sk-item {position: relative;z-index: 1;}#sk-container-id-3 div.sk-parallel {display: flex;align-items: stretch;justify-content: center;background-color: white;position: relative;}#sk-container-id-3 div.sk-item::before, #sk-container-id-3 div.sk-parallel-item::before {content: \"\";position: absolute;border-left: 1px solid gray;box-sizing: border-box;top: 0;bottom: 0;left: 50%;z-index: -1;}#sk-container-id-3 div.sk-parallel-item {display: flex;flex-direction: column;z-index: 1;position: relative;background-color: white;}#sk-container-id-3 div.sk-parallel-item:first-child::after {align-self: flex-end;width: 50%;}#sk-container-id-3 div.sk-parallel-item:last-child::after {align-self: flex-start;width: 50%;}#sk-container-id-3 div.sk-parallel-item:only-child::after {width: 0;}#sk-container-id-3 div.sk-dashed-wrapped {border: 1px dashed gray;margin: 0 0.4em 0.5em 0.4em;box-sizing: border-box;padding-bottom: 0.4em;background-color: white;}#sk-container-id-3 div.sk-label label {font-family: monospace;font-weight: bold;display: inline-block;line-height: 1.2em;}#sk-container-id-3 div.sk-label-container {text-align: center;}#sk-container-id-3 div.sk-container {/* jupyter's `normalize.less` sets `[hidden] { display: none; }` but bootstrap.min.css set `[hidden] { display: none !important; }` so we also need the `!important` here to be able to override the default hidden behavior on the sphinx rendered scikit-learn.org. See: https://github.com/scikit-learn/scikit-learn/issues/21755 */display: inline-block !important;position: relative;}#sk-container-id-3 div.sk-text-repr-fallback {display: none;}</style><div id=\"sk-container-id-3\" class=\"sk-top-container\"><div class=\"sk-text-repr-fallback\"><pre>CategoricalNB()</pre><b>In a Jupyter environment, please rerun this cell to show the HTML representation or trust the notebook. <br />On GitHub, the HTML representation is unable to render, please try loading this page with nbviewer.org.</b></div><div class=\"sk-container\" hidden><div class=\"sk-item\"><div class=\"sk-estimator sk-toggleable\"><input class=\"sk-toggleable__control sk-hidden--visually\" id=\"sk-estimator-id-3\" type=\"checkbox\" checked><label for=\"sk-estimator-id-3\" class=\"sk-toggleable__label sk-toggleable__label-arrow\">CategoricalNB</label><div class=\"sk-toggleable__content\"><pre>CategoricalNB()</pre></div></div></div></div></div>"
      ],
      "text/plain": [
       "CategoricalNB()"
      ]
     },
     "execution_count": 39,
     "metadata": {},
     "output_type": "execute_result"
    }
   ],
   "source": [
    "model = CategoricalNB()\n",
    "model.fit(X_train, y_train)"
   ]
  },
  {
   "cell_type": "markdown",
   "id": "0b5df3e3",
   "metadata": {},
   "source": [
    "## Make Predictions and Evaluate the Model"
   ]
  },
  {
   "cell_type": "markdown",
   "id": "7bdfd432",
   "metadata": {},
   "source": [
    "How can we make predictions? We have to use the predict method. This method is used on the X_test set in order to generate predictions. The predictions are based off of the learned probabilities that we did in the previous step. Now the next course of action is to evaluate the model using accuracy_score. We can use accuracy_score to figure out the \"overall correctness\" of all these predictions and classification_report. Through this, we can get a pretty detailed view of each of the performace for each class (precision, recall, and F1-score).\n",
    "\n",
    "We can also plot out the model using a confusion matrix. This will provide a visualization of the accuracy of the predictions that were made."
   ]
  },
  {
   "cell_type": "code",
   "execution_count": 43,
   "id": "29b8e4cd",
   "metadata": {},
   "outputs": [
    {
     "name": "stdout",
     "output_type": "stream",
     "text": [
      "\n",
      "Accuracy: 0.64\n",
      "\n",
      "Classification Report:\n",
      "               precision    recall  f1-score   support\n",
      "\n",
      "           0       0.54      0.65      0.59      1312\n",
      "           1       0.73      0.63      0.68      1988\n",
      "\n",
      "    accuracy                           0.64      3300\n",
      "   macro avg       0.64      0.64      0.63      3300\n",
      "weighted avg       0.66      0.64      0.64      3300\n",
      "\n"
     ]
    },
    {
     "data": {
      "image/png": "[encoded data removed]",
      "text/plain": [
       "<Figure size 640x480 with 2 Axes>"
      ]
     },
     "metadata": {},
     "output_type": "display_data"
    }
   ],
   "source": [
    "predictions = model.predict(X_test)\n",
    "\n",
    "# check the accuracy as well as the classification report\n",
    "print(\"\\nAccuracy:\", accuracy_score(y_test, predictions))\n",
    "print(\"\\nClassification Report:\\n\", classification_report(y_test, predictions))\n",
    "\n",
    "# this will plot the confusion matrix\n",
    "conf_matrix = pd.crosstab(y_test, predictions, rownames=['Actual'], colnames=['Predicted'])\n",
    "# used to plot rectangular data as a color-coded matrix.\n",
    "sns.heatmap(conf_matrix, annot=True, fmt='d', cmap='Blues')\n",
    "plt.show()"
   ]
  },
  {
   "cell_type": "markdown",
   "id": "2e8ccfa1",
   "metadata": {},
   "source": [
    "## Interpreting Results"
   ]
  },
  {
   "cell_type": "markdown",
   "id": "8b50c49d",
   "metadata": {},
   "source": [
    "Let us interpret the results. The accuracy of the proportion for all the predictions is 64%, while the precision is 54% for class 0 and 73% for class 1. The recall is 65% for class 0 and 63% for class 1. The F1-Score looks to be 59% for class 0 and 68% for class 1.\n",
    "\n",
    "Let us explain the outputs: Having an accuracy of 0.64 indicates that the model correctly predicted 64% of the test data. This does not seem to be the best approach considering even a coin flip has a 0.5 chance of predicting it correctly. "
   ]
  },
  {
   "cell_type": "markdown",
   "id": "tested-astrology",
   "metadata": {},
   "source": [
    "### Get data from yahoo finance"
   ]
  },
  {
   "cell_type": "code",
   "execution_count": null,
   "id": "crude-louisville",
   "metadata": {
    "papermill": {},
    "tags": []
   },
   "outputs": [],
   "source": [
    "df = yahoofinance.get(\n",
    "    stock_name,\n",
    "    date_from=date_from,\n",
    "    date_to=date_to,\n",
    "    moving_averages=moving_averages\n",
    ")\n",
    "df"
   ]
  },
  {
   "cell_type": "markdown",
   "id": "lonely-pacific",
   "metadata": {
    "execution": {
     "iopub.execute_input": "2021-07-02T23:32:10.789097Z",
     "iopub.status.busy": "2021-07-02T23:32:10.788829Z",
     "iopub.status.idle": "2021-07-02T23:32:10.796900Z",
     "shell.execute_reply": "2021-07-02T23:32:10.796358Z",
     "shell.execute_reply.started": "2021-07-02T23:32:10.789033Z"
    }
   },
   "source": [
    "## Output"
   ]
  },
  {
   "cell_type": "markdown",
   "id": "890f7c86-b7bb-4f5d-9a1b-e492dd9580fd",
   "metadata": {},
   "source": [
    "### Save DataFrame to csv"
   ]
  },
  {
   "cell_type": "code",
   "execution_count": null,
   "id": "9c4e3b7b-6440-4844-8054-265f1aec65eb",
   "metadata": {},
   "outputs": [],
   "source": [
    "df.to_csv(csv_output, index=False)"
   ]
  }
 ],
 "metadata": {
  "kernelspec": {
   "display_name": "Python 3 (ipykernel)",
   "language": "python",
   "name": "python3"
  },
  "language_info": {
   "codemirror_mode": {
    "name": "ipython",
    "version": 3
   },
   "file_extension": ".py",
   "mimetype": "text/x-python",
   "name": "python",
   "nbconvert_exporter": "python",
   "pygments_lexer": "ipython3",
   "version": "3.11.5"
  },
  "papermill": {
   "default_parameters": {},
   "environment_variables": {},
   "parameters": {},
   "version": "2.3.3"
  },
  "widgets": {
   "application/vnd.jupyter.widget-state+json": {
    "state": {},
    "version_major": 2,
    "version_minor": 0
   }
  }
 },
 "nbformat": 4,
 "nbformat_minor": 5
}
