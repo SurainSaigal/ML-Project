{
 "cells": [
  {
   "cell_type": "markdown",
   "metadata": {},
   "source": [
    "# Machine Learning Project\n",
    "**Siddh Shah, Francis Yeh, Surain Saigal, Nathan Ma**\n",
    "\n",
    "Predicting whether packages are delivered late or not based on delivery data"
   ]
  },
  {
   "cell_type": "code",
   "execution_count": 5,
   "metadata": {},
   "outputs": [],
   "source": [
    "import random\n",
    "import numpy as np\n",
    "import pandas as pd\n",
    "import matplotlib.pyplot as plt\n",
    "from numpy.random import rand\n",
    "from numpy import square, sqrt\n",
    "from pandas import DataFrame\n",
    "%matplotlib inline"
   ]
  },
  {
   "cell_type": "code",
   "execution_count": 6,
   "metadata": {},
   "outputs": [
    {
     "data": {
      "text/html": [
       "<div>\n",
       "<style scoped>\n",
       "    .dataframe tbody tr th:only-of-type {\n",
       "        vertical-align: middle;\n",
       "    }\n",
       "\n",
       "    .dataframe tbody tr th {\n",
       "        vertical-align: top;\n",
       "    }\n",
       "\n",
       "    .dataframe thead th {\n",
       "        text-align: right;\n",
       "    }\n",
       "</style>\n",
       "<table border=\"1\" class=\"dataframe\">\n",
       "  <thead>\n",
       "    <tr style=\"text-align: right;\">\n",
       "      <th></th>\n",
       "      <th>Warehouse_block</th>\n",
       "      <th>Mode_of_Shipment</th>\n",
       "      <th>Customer_care_calls</th>\n",
       "      <th>Customer_rating</th>\n",
       "      <th>Cost_of_the_Product</th>\n",
       "      <th>Prior_purchases</th>\n",
       "      <th>Product_importance</th>\n",
       "      <th>Gender</th>\n",
       "      <th>Discount_offered</th>\n",
       "      <th>Weight_in_gms</th>\n",
       "      <th>Reached.on.Time_Y.N</th>\n",
       "    </tr>\n",
       "  </thead>\n",
       "  <tbody>\n",
       "    <tr>\n",
       "      <th>0</th>\n",
       "      <td>D</td>\n",
       "      <td>Flight</td>\n",
       "      <td>4</td>\n",
       "      <td>2</td>\n",
       "      <td>177</td>\n",
       "      <td>3</td>\n",
       "      <td>low</td>\n",
       "      <td>F</td>\n",
       "      <td>44</td>\n",
       "      <td>1233</td>\n",
       "      <td>1</td>\n",
       "    </tr>\n",
       "    <tr>\n",
       "      <th>1</th>\n",
       "      <td>F</td>\n",
       "      <td>Flight</td>\n",
       "      <td>4</td>\n",
       "      <td>5</td>\n",
       "      <td>216</td>\n",
       "      <td>2</td>\n",
       "      <td>low</td>\n",
       "      <td>M</td>\n",
       "      <td>59</td>\n",
       "      <td>3088</td>\n",
       "      <td>1</td>\n",
       "    </tr>\n",
       "    <tr>\n",
       "      <th>2</th>\n",
       "      <td>A</td>\n",
       "      <td>Flight</td>\n",
       "      <td>2</td>\n",
       "      <td>2</td>\n",
       "      <td>183</td>\n",
       "      <td>4</td>\n",
       "      <td>low</td>\n",
       "      <td>M</td>\n",
       "      <td>48</td>\n",
       "      <td>3374</td>\n",
       "      <td>1</td>\n",
       "    </tr>\n",
       "    <tr>\n",
       "      <th>3</th>\n",
       "      <td>B</td>\n",
       "      <td>Flight</td>\n",
       "      <td>3</td>\n",
       "      <td>3</td>\n",
       "      <td>176</td>\n",
       "      <td>4</td>\n",
       "      <td>medium</td>\n",
       "      <td>M</td>\n",
       "      <td>10</td>\n",
       "      <td>1177</td>\n",
       "      <td>1</td>\n",
       "    </tr>\n",
       "    <tr>\n",
       "      <th>4</th>\n",
       "      <td>C</td>\n",
       "      <td>Flight</td>\n",
       "      <td>2</td>\n",
       "      <td>2</td>\n",
       "      <td>184</td>\n",
       "      <td>3</td>\n",
       "      <td>medium</td>\n",
       "      <td>F</td>\n",
       "      <td>46</td>\n",
       "      <td>2484</td>\n",
       "      <td>1</td>\n",
       "    </tr>\n",
       "  </tbody>\n",
       "</table>\n",
       "</div>"
      ],
      "text/plain": [
       "  Warehouse_block Mode_of_Shipment  Customer_care_calls  Customer_rating   \n",
       "0               D           Flight                    4                2  \\\n",
       "1               F           Flight                    4                5   \n",
       "2               A           Flight                    2                2   \n",
       "3               B           Flight                    3                3   \n",
       "4               C           Flight                    2                2   \n",
       "\n",
       "   Cost_of_the_Product  Prior_purchases Product_importance Gender   \n",
       "0                  177                3                low      F  \\\n",
       "1                  216                2                low      M   \n",
       "2                  183                4                low      M   \n",
       "3                  176                4             medium      M   \n",
       "4                  184                3             medium      F   \n",
       "\n",
       "   Discount_offered  Weight_in_gms  Reached.on.Time_Y.N  \n",
       "0                44           1233                    1  \n",
       "1                59           3088                    1  \n",
       "2                48           3374                    1  \n",
       "3                10           1177                    1  \n",
       "4                46           2484                    1  "
      ]
     },
     "execution_count": 6,
     "metadata": {},
     "output_type": "execute_result"
    }
   ],
   "source": [
    "# First, get the data from the CSV file\n",
    "df = pd.read_csv(\"dataset.csv\")\n",
    "\n",
    "# Drop the ID column\n",
    "df = df.drop(df.columns[0], axis=1)\n",
    "\n",
    "df.head()"
   ]
  },
  {
   "cell_type": "markdown",
   "metadata": {},
   "source": [
    "# Some Data Visualization"
   ]
  },
  {
   "cell_type": "markdown",
   "metadata": {},
   "source": [
    "We are trying to predict the value of Reached.on.Time_Y.N based on the other features. In other words, we want to build a binary classification model that is trying to classify whether a certain package reached it's destination on time."
   ]
  },
  {
   "cell_type": "code",
   "execution_count": 7,
   "metadata": {},
   "outputs": [
    {
     "data": {
      "text/html": [
       "<div>\n",
       "<style scoped>\n",
       "    .dataframe tbody tr th:only-of-type {\n",
       "        vertical-align: middle;\n",
       "    }\n",
       "\n",
       "    .dataframe tbody tr th {\n",
       "        vertical-align: top;\n",
       "    }\n",
       "\n",
       "    .dataframe thead th {\n",
       "        text-align: right;\n",
       "    }\n",
       "</style>\n",
       "<table border=\"1\" class=\"dataframe\">\n",
       "  <thead>\n",
       "    <tr style=\"text-align: right;\">\n",
       "      <th></th>\n",
       "      <th>Customer_care_calls</th>\n",
       "      <th>Customer_rating</th>\n",
       "      <th>Cost_of_the_Product</th>\n",
       "      <th>Prior_purchases</th>\n",
       "      <th>Gender</th>\n",
       "      <th>Discount_offered</th>\n",
       "      <th>Weight_in_gms</th>\n",
       "      <th>Warehouse_block_A</th>\n",
       "      <th>Warehouse_block_B</th>\n",
       "      <th>Warehouse_block_C</th>\n",
       "      <th>Warehouse_block_D</th>\n",
       "      <th>Warehouse_block_F</th>\n",
       "      <th>Mode_of_Shipment_Flight</th>\n",
       "      <th>Mode_of_Shipment_Road</th>\n",
       "      <th>Mode_of_Shipment_Ship</th>\n",
       "      <th>Product_importance_high</th>\n",
       "      <th>Product_importance_low</th>\n",
       "      <th>Product_importance_medium</th>\n",
       "    </tr>\n",
       "  </thead>\n",
       "  <tbody>\n",
       "    <tr>\n",
       "      <th>0</th>\n",
       "      <td>4</td>\n",
       "      <td>2</td>\n",
       "      <td>177</td>\n",
       "      <td>3</td>\n",
       "      <td>F</td>\n",
       "      <td>44</td>\n",
       "      <td>1233</td>\n",
       "      <td>False</td>\n",
       "      <td>False</td>\n",
       "      <td>False</td>\n",
       "      <td>True</td>\n",
       "      <td>False</td>\n",
       "      <td>True</td>\n",
       "      <td>False</td>\n",
       "      <td>False</td>\n",
       "      <td>False</td>\n",
       "      <td>True</td>\n",
       "      <td>False</td>\n",
       "    </tr>\n",
       "    <tr>\n",
       "      <th>1</th>\n",
       "      <td>4</td>\n",
       "      <td>5</td>\n",
       "      <td>216</td>\n",
       "      <td>2</td>\n",
       "      <td>M</td>\n",
       "      <td>59</td>\n",
       "      <td>3088</td>\n",
       "      <td>False</td>\n",
       "      <td>False</td>\n",
       "      <td>False</td>\n",
       "      <td>False</td>\n",
       "      <td>True</td>\n",
       "      <td>True</td>\n",
       "      <td>False</td>\n",
       "      <td>False</td>\n",
       "      <td>False</td>\n",
       "      <td>True</td>\n",
       "      <td>False</td>\n",
       "    </tr>\n",
       "    <tr>\n",
       "      <th>2</th>\n",
       "      <td>2</td>\n",
       "      <td>2</td>\n",
       "      <td>183</td>\n",
       "      <td>4</td>\n",
       "      <td>M</td>\n",
       "      <td>48</td>\n",
       "      <td>3374</td>\n",
       "      <td>True</td>\n",
       "      <td>False</td>\n",
       "      <td>False</td>\n",
       "      <td>False</td>\n",
       "      <td>False</td>\n",
       "      <td>True</td>\n",
       "      <td>False</td>\n",
       "      <td>False</td>\n",
       "      <td>False</td>\n",
       "      <td>True</td>\n",
       "      <td>False</td>\n",
       "    </tr>\n",
       "    <tr>\n",
       "      <th>3</th>\n",
       "      <td>3</td>\n",
       "      <td>3</td>\n",
       "      <td>176</td>\n",
       "      <td>4</td>\n",
       "      <td>M</td>\n",
       "      <td>10</td>\n",
       "      <td>1177</td>\n",
       "      <td>False</td>\n",
       "      <td>True</td>\n",
       "      <td>False</td>\n",
       "      <td>False</td>\n",
       "      <td>False</td>\n",
       "      <td>True</td>\n",
       "      <td>False</td>\n",
       "      <td>False</td>\n",
       "      <td>False</td>\n",
       "      <td>False</td>\n",
       "      <td>True</td>\n",
       "    </tr>\n",
       "    <tr>\n",
       "      <th>4</th>\n",
       "      <td>2</td>\n",
       "      <td>2</td>\n",
       "      <td>184</td>\n",
       "      <td>3</td>\n",
       "      <td>F</td>\n",
       "      <td>46</td>\n",
       "      <td>2484</td>\n",
       "      <td>False</td>\n",
       "      <td>False</td>\n",
       "      <td>True</td>\n",
       "      <td>False</td>\n",
       "      <td>False</td>\n",
       "      <td>True</td>\n",
       "      <td>False</td>\n",
       "      <td>False</td>\n",
       "      <td>False</td>\n",
       "      <td>False</td>\n",
       "      <td>True</td>\n",
       "    </tr>\n",
       "  </tbody>\n",
       "</table>\n",
       "</div>"
      ],
      "text/plain": [
       "   Customer_care_calls  Customer_rating  Cost_of_the_Product  Prior_purchases   \n",
       "0                    4                2                  177                3  \\\n",
       "1                    4                5                  216                2   \n",
       "2                    2                2                  183                4   \n",
       "3                    3                3                  176                4   \n",
       "4                    2                2                  184                3   \n",
       "\n",
       "  Gender  Discount_offered  Weight_in_gms  Warehouse_block_A   \n",
       "0      F                44           1233              False  \\\n",
       "1      M                59           3088              False   \n",
       "2      M                48           3374               True   \n",
       "3      M                10           1177              False   \n",
       "4      F                46           2484              False   \n",
       "\n",
       "   Warehouse_block_B  Warehouse_block_C  Warehouse_block_D  Warehouse_block_F   \n",
       "0              False              False               True              False  \\\n",
       "1              False              False              False               True   \n",
       "2              False              False              False              False   \n",
       "3               True              False              False              False   \n",
       "4              False               True              False              False   \n",
       "\n",
       "   Mode_of_Shipment_Flight  Mode_of_Shipment_Road  Mode_of_Shipment_Ship   \n",
       "0                     True                  False                  False  \\\n",
       "1                     True                  False                  False   \n",
       "2                     True                  False                  False   \n",
       "3                     True                  False                  False   \n",
       "4                     True                  False                  False   \n",
       "\n",
       "   Product_importance_high  Product_importance_low  Product_importance_medium  \n",
       "0                    False                    True                      False  \n",
       "1                    False                    True                      False  \n",
       "2                    False                    True                      False  \n",
       "3                    False                   False                       True  \n",
       "4                    False                   False                       True  "
      ]
     },
     "execution_count": 7,
     "metadata": {},
     "output_type": "execute_result"
    }
   ],
   "source": [
    "features = df.drop([\"Reached.on.Time_Y.N\"], axis=1)\n",
    "labels = df[\"Reached.on.Time_Y.N\"]\n",
    "features = pd.get_dummies(features, columns=[\"Warehouse_block\", \"Mode_of_Shipment\", \"Product_importance\"])\n",
    "features.head()"
   ]
  },
  {
   "cell_type": "code",
   "execution_count": 8,
   "metadata": {},
   "outputs": [
    {
     "data": {
      "image/png": "[encoded data removed]",
      "text/plain": [
       "<Figure size 640x480 with 1 Axes>"
      ]
     },
     "metadata": {},
     "output_type": "display_data"
    },
    {
     "name": "stdout",
     "output_type": "stream",
     "text": [
      "Chi-squared statistic: [0.86654644 0.12814262]\n",
      "p-value: [0.35191318 0.72036566]\n"
     ]
    }
   ],
   "source": [
    "from scipy.stats import chisquare\n",
    "\n",
    "gender_vs_time = df.groupby(['Gender', 'Reached.on.Time_Y.N']).size().unstack().T\n",
    "\n",
    "\n",
    "gender_vs_time.plot(kind='bar', stacked=True)\n",
    "\n",
    "# Display the graph\n",
    "plt.show()\n",
    "\n",
    "#probably drop gender, roughly equal\n",
    "\n",
    "tab = pd.crosstab(df['Gender'], df['Reached.on.Time_Y.N'])\n",
    "\n",
    "chi, p_value = chisquare(tab)\n",
    "\n",
    "print(\"Chi-squared statistic:\", chi)\n",
    "print(\"p-value:\", p_value)"
   ]
  },
  {
   "cell_type": "code",
   "execution_count": 9,
   "metadata": {},
   "outputs": [
    {
     "data": {
      "image/png": "[encoded data removed]",
      "text/plain": [
       "<Figure size 640x480 with 1 Axes>"
      ]
     },
     "metadata": {},
     "output_type": "display_data"
    },
    {
     "name": "stdout",
     "output_type": "stream",
     "text": [
      "Chi-squared statistic: [482.34310189 740.16090203]\n",
      "p-value: [4.41214072e-103 7.00761672e-159]\n"
     ]
    }
   ],
   "source": [
    "ware_vs_time = df.groupby(['Warehouse_block', 'Reached.on.Time_Y.N']).size().unstack().T\n",
    "\n",
    "\n",
    "ware_vs_time.plot(kind='bar', stacked=True)\n",
    "\n",
    "# Display the graph\n",
    "plt.show()\n",
    "\n",
    "tab = pd.crosstab(df['Warehouse_block'], df['Reached.on.Time_Y.N'])\n",
    "\n",
    "chi, p_value = chisquare(tab)\n",
    "\n",
    "print(\"Chi-squared statistic:\", chi)\n",
    "print(\"p-value:\", p_value)"
   ]
  },
  {
   "cell_type": "code",
   "execution_count": 10,
   "metadata": {},
   "outputs": [
    {
     "data": {
      "image/png": "[encoded data removed]",
      "text/plain": [
       "<Figure size 640x480 with 1 Axes>"
      ]
     },
     "metadata": {},
     "output_type": "display_data"
    },
    {
     "name": "stdout",
     "output_type": "stream",
     "text": [
      "Chi-squared statistic: [2357.21325518 3537.56391894]\n",
      "p-value: [0. 0.]\n"
     ]
    }
   ],
   "source": [
    "mode_vs_time = df.groupby(['Mode_of_Shipment', 'Reached.on.Time_Y.N']).size().unstack().T\n",
    "\n",
    "\n",
    "mode_vs_time.plot(kind='bar', stacked=True)\n",
    "\n",
    "# Display the graph\n",
    "plt.show()\n",
    "\n",
    "tab = pd.crosstab(df['Mode_of_Shipment'], df['Reached.on.Time_Y.N'])\n",
    "\n",
    "chi, p_value = chisquare(tab)\n",
    "\n",
    "print(\"Chi-squared statistic:\", chi)\n",
    "print(\"p-value:\", p_value)"
   ]
  },
  {
   "cell_type": "code",
   "execution_count": 11,
   "metadata": {},
   "outputs": [
    {
     "data": {
      "image/png": "[encoded data removed]",
      "text/plain": [
       "<Figure size 640x480 with 1 Axes>"
      ]
     },
     "metadata": {},
     "output_type": "display_data"
    },
    {
     "name": "stdout",
     "output_type": "stream",
     "text": [
      "Chi-squared statistic: [1348.72633003 1719.02270303]\n",
      "p-value: [1.34214252e-293 0.00000000e+000]\n"
     ]
    }
   ],
   "source": [
    "importance_vs_time = df.groupby(['Product_importance', 'Reached.on.Time_Y.N']).size().unstack().T\n",
    "importance_vs_time.plot(kind='bar', stacked=True)\n",
    "\n",
    "# Display the graph\n",
    "plt.show()\n",
    "\n",
    "tab = pd.crosstab(df['Product_importance'], df['Reached.on.Time_Y.N'])\n",
    "\n",
    "chi, p_value = chisquare(tab)\n",
    "\n",
    "print(\"Chi-squared statistic:\", chi)\n",
    "print(\"p-value:\", p_value)"
   ]
  },
  {
   "cell_type": "markdown",
   "metadata": {},
   "source": [
    "# Feature Selection and Engineering\n",
    "Based on the data visualization, we decided to drop the Gender, Customer rating, Customer care calls, and prior purchases columns as they didn't have high statistical significance when related to Reached.on.Time_Y.N (our class label)."
   ]
  },
  {
   "cell_type": "code",
   "execution_count": 12,
   "metadata": {},
   "outputs": [
    {
     "data": {
      "text/html": [
       "<div>\n",
       "<style scoped>\n",
       "    .dataframe tbody tr th:only-of-type {\n",
       "        vertical-align: middle;\n",
       "    }\n",
       "\n",
       "    .dataframe tbody tr th {\n",
       "        vertical-align: top;\n",
       "    }\n",
       "\n",
       "    .dataframe thead th {\n",
       "        text-align: right;\n",
       "    }\n",
       "</style>\n",
       "<table border=\"1\" class=\"dataframe\">\n",
       "  <thead>\n",
       "    <tr style=\"text-align: right;\">\n",
       "      <th></th>\n",
       "      <th>Warehouse_block</th>\n",
       "      <th>Mode_of_Shipment</th>\n",
       "      <th>Cost_of_the_Product</th>\n",
       "      <th>Product_importance</th>\n",
       "      <th>Discount_offered</th>\n",
       "      <th>Weight_in_gms</th>\n",
       "      <th>Reached.on.Time_Y.N</th>\n",
       "    </tr>\n",
       "  </thead>\n",
       "  <tbody>\n",
       "    <tr>\n",
       "      <th>0</th>\n",
       "      <td>D</td>\n",
       "      <td>Flight</td>\n",
       "      <td>177</td>\n",
       "      <td>low</td>\n",
       "      <td>44</td>\n",
       "      <td>1233</td>\n",
       "      <td>1</td>\n",
       "    </tr>\n",
       "    <tr>\n",
       "      <th>1</th>\n",
       "      <td>F</td>\n",
       "      <td>Flight</td>\n",
       "      <td>216</td>\n",
       "      <td>low</td>\n",
       "      <td>59</td>\n",
       "      <td>3088</td>\n",
       "      <td>1</td>\n",
       "    </tr>\n",
       "    <tr>\n",
       "      <th>2</th>\n",
       "      <td>A</td>\n",
       "      <td>Flight</td>\n",
       "      <td>183</td>\n",
       "      <td>low</td>\n",
       "      <td>48</td>\n",
       "      <td>3374</td>\n",
       "      <td>1</td>\n",
       "    </tr>\n",
       "    <tr>\n",
       "      <th>3</th>\n",
       "      <td>B</td>\n",
       "      <td>Flight</td>\n",
       "      <td>176</td>\n",
       "      <td>medium</td>\n",
       "      <td>10</td>\n",
       "      <td>1177</td>\n",
       "      <td>1</td>\n",
       "    </tr>\n",
       "    <tr>\n",
       "      <th>4</th>\n",
       "      <td>C</td>\n",
       "      <td>Flight</td>\n",
       "      <td>184</td>\n",
       "      <td>medium</td>\n",
       "      <td>46</td>\n",
       "      <td>2484</td>\n",
       "      <td>1</td>\n",
       "    </tr>\n",
       "  </tbody>\n",
       "</table>\n",
       "</div>"
      ],
      "text/plain": [
       "  Warehouse_block Mode_of_Shipment  Cost_of_the_Product Product_importance   \n",
       "0               D           Flight                  177                low  \\\n",
       "1               F           Flight                  216                low   \n",
       "2               A           Flight                  183                low   \n",
       "3               B           Flight                  176             medium   \n",
       "4               C           Flight                  184             medium   \n",
       "\n",
       "   Discount_offered  Weight_in_gms  Reached.on.Time_Y.N  \n",
       "0                44           1233                    1  \n",
       "1                59           3088                    1  \n",
       "2                48           3374                    1  \n",
       "3                10           1177                    1  \n",
       "4                46           2484                    1  "
      ]
     },
     "execution_count": 12,
     "metadata": {},
     "output_type": "execute_result"
    }
   ],
   "source": [
    "#Dropping Gender, Customer Rating, Customer_care_calls, Prior Purchases\n",
    "df = df.drop([\"Gender\", \"Customer_rating\", \"Customer_care_calls\", \"Prior_purchases\"], axis=1)\n",
    "df.head()"
   ]
  },
  {
   "cell_type": "markdown",
   "metadata": {},
   "source": [
    "We need to split the data into features and labels. We decided to label-encode the categorical features, rather than one-hot encode, to avoid the curse of dimensionality that could arise from adding more columns."
   ]
  },
  {
   "cell_type": "markdown",
   "metadata": {},
   "source": [
    "When encoding categorical feautures, many ML algorithms require the input to be numeric. Because of this, we need a converter. \"LabelEncoder\" will convert categorical labels into a numerical format. Each unique category in a column is assigned a numerical id. This process is applied to all columns that are of object type (typically strings or categories). This is a crucial step because it turns the data into a suitable format for training ML models."
   ]
  },
  {
   "cell_type": "code",
   "execution_count": 13,
   "metadata": {},
   "outputs": [
    {
     "data": {
      "text/html": [
       "<div>\n",
       "<style scoped>\n",
       "    .dataframe tbody tr th:only-of-type {\n",
       "        vertical-align: middle;\n",
       "    }\n",
       "\n",
       "    .dataframe tbody tr th {\n",
       "        vertical-align: top;\n",
       "    }\n",
       "\n",
       "    .dataframe thead th {\n",
       "        text-align: right;\n",
       "    }\n",
       "</style>\n",
       "<table border=\"1\" class=\"dataframe\">\n",
       "  <thead>\n",
       "    <tr style=\"text-align: right;\">\n",
       "      <th></th>\n",
       "      <th>Warehouse_block</th>\n",
       "      <th>Mode_of_Shipment</th>\n",
       "      <th>Cost_of_the_Product</th>\n",
       "      <th>Product_importance</th>\n",
       "      <th>Discount_offered</th>\n",
       "      <th>Weight_in_gms</th>\n",
       "    </tr>\n",
       "  </thead>\n",
       "  <tbody>\n",
       "    <tr>\n",
       "      <th>0</th>\n",
       "      <td>3</td>\n",
       "      <td>0</td>\n",
       "      <td>177</td>\n",
       "      <td>1</td>\n",
       "      <td>44</td>\n",
       "      <td>1233</td>\n",
       "    </tr>\n",
       "    <tr>\n",
       "      <th>1</th>\n",
       "      <td>4</td>\n",
       "      <td>0</td>\n",
       "      <td>216</td>\n",
       "      <td>1</td>\n",
       "      <td>59</td>\n",
       "      <td>3088</td>\n",
       "    </tr>\n",
       "    <tr>\n",
       "      <th>2</th>\n",
       "      <td>0</td>\n",
       "      <td>0</td>\n",
       "      <td>183</td>\n",
       "      <td>1</td>\n",
       "      <td>48</td>\n",
       "      <td>3374</td>\n",
       "    </tr>\n",
       "    <tr>\n",
       "      <th>3</th>\n",
       "      <td>1</td>\n",
       "      <td>0</td>\n",
       "      <td>176</td>\n",
       "      <td>2</td>\n",
       "      <td>10</td>\n",
       "      <td>1177</td>\n",
       "    </tr>\n",
       "    <tr>\n",
       "      <th>4</th>\n",
       "      <td>2</td>\n",
       "      <td>0</td>\n",
       "      <td>184</td>\n",
       "      <td>2</td>\n",
       "      <td>46</td>\n",
       "      <td>2484</td>\n",
       "    </tr>\n",
       "  </tbody>\n",
       "</table>\n",
       "</div>"
      ],
      "text/plain": [
       "   Warehouse_block  Mode_of_Shipment  Cost_of_the_Product  Product_importance   \n",
       "0                3                 0                  177                   1  \\\n",
       "1                4                 0                  216                   1   \n",
       "2                0                 0                  183                   1   \n",
       "3                1                 0                  176                   2   \n",
       "4                2                 0                  184                   2   \n",
       "\n",
       "   Discount_offered  Weight_in_gms  \n",
       "0                44           1233  \n",
       "1                59           3088  \n",
       "2                48           3374  \n",
       "3                10           1177  \n",
       "4                46           2484  "
      ]
     },
     "execution_count": 13,
     "metadata": {},
     "output_type": "execute_result"
    }
   ],
   "source": [
    "from sklearn.preprocessing import LabelEncoder\n",
    "\n",
    "# Initialize a LabelEncoder\n",
    "le = LabelEncoder()\n",
    "\n",
    "# Apply the LabelEncoder to each column of df that has object dtype\n",
    "for col in df.select_dtypes(include=['object']).columns:\n",
    "    df[col] = le.fit_transform(df[col])\n",
    "\n",
    "features = df.drop([\"Reached.on.Time_Y.N\"], axis=1)\n",
    "labels = df[\"Reached.on.Time_Y.N\"]\n",
    "\n",
    "features.head()"
   ]
  },
  {
   "cell_type": "markdown",
   "metadata": {},
   "source": [
    "# Anomaly Detection"
   ]
  },
  {
   "cell_type": "markdown",
   "metadata": {},
   "source": [
    "Anamoly Detection is used to eliminate \"anamolies\" in the records in hopes to present the best training set and increase the accuracy. "
   ]
  },
  {
   "cell_type": "code",
   "execution_count": 50,
   "metadata": {},
   "outputs": [
    {
     "name": "stdout",
     "output_type": "stream",
     "text": [
      "Number of Anomaly Rows:  110\n"
     ]
    }
   ],
   "source": [
    "from sklearn.ensemble import IsolationForest\n",
    "\n",
    "clf = IsolationForest(n_estimators=100, max_samples='auto', contamination=float(0.01), random_state=42)\n",
    "pred = clf.fit_predict(df[['Cost_of_the_Product', 'Weight_in_gms']])\n",
    "df['anomaly'] = pred\n",
    "outliers = df[df['anomaly'] == -1]\n",
    "\n",
    "print(\"Number of Anomaly Rows: \", len(outliers))"
   ]
  },
  {
   "cell_type": "markdown",
   "metadata": {},
   "source": [
    "Since our dataset is very large (11000 rows), losing 110 of them will likely not have a huge impact on performance. However, we will still drop the rows since they likely reflect errors in the real world data and could be adding unneccessary noise and bias to our models. "
   ]
  },
  {
   "cell_type": "code",
   "execution_count": 52,
   "metadata": {},
   "outputs": [
    {
     "name": "stdout",
     "output_type": "stream",
     "text": [
      "Number of Rows after dropping anomalies:  10889\n"
     ]
    }
   ],
   "source": [
    "# Drop anomalous rows\n",
    "\n",
    "anomaly_indices = df[df['anomaly'] == -1].index\n",
    "df = df.drop(anomaly_indices)\n",
    "\n",
    "features = df.drop([\"Reached.on.Time_Y.N\", \"anomaly\"], axis=1)\n",
    "labels = df[\"Reached.on.Time_Y.N\"]\n",
    "\n",
    "print(\"Number of Rows after dropping anomalies: \", len(df))"
   ]
  },
  {
   "cell_type": "markdown",
   "metadata": {},
   "source": [
    "# Training the Models\n",
    "Our group decided that we would train 4 different models (KNN, SVM, Neural Network, Naive Bayes) to see which would perform best on our dataset. If all come out with relatively good accuracies, the plan is to heterogeneously ensemble them to achieve an even higher performance."
   ]
  },
  {
   "cell_type": "markdown",
   "metadata": {},
   "source": [
    "# KNN Model"
   ]
  },
  {
   "cell_type": "code",
   "execution_count": 53,
   "metadata": {},
   "outputs": [],
   "source": [
    "from sklearn.model_selection import GridSearchCV, cross_val_score, StratifiedKFold, cross_val_predict\n",
    "from sklearn.pipeline import Pipeline\n",
    "from sklearn.preprocessing import MinMaxScaler, StandardScaler\n",
    "from sklearn.neighbors import KNeighborsClassifier\n",
    "from sklearn.decomposition import PCA\n",
    "from sklearn.metrics import accuracy_score, classification_report\n",
    "import seaborn as sns"
   ]
  },
  {
   "cell_type": "code",
   "execution_count": 54,
   "metadata": {},
   "outputs": [
    {
     "name": "stdout",
     "output_type": "stream",
     "text": [
      "KNN Mean Accuracy:  0.6512994765359538\n",
      "KNN Classification Report: \n",
      "               precision    recall  f1-score   support\n",
      "\n",
      "           0       0.55      0.73      0.63      4405\n",
      "           1       0.76      0.60      0.67      6484\n",
      "\n",
      "    accuracy                           0.65     10889\n",
      "   macro avg       0.66      0.66      0.65     10889\n",
      "weighted avg       0.68      0.65      0.65     10889\n",
      "\n"
     ]
    },
    {
     "data": {
      "image/png": "[encoded data removed]",
      "text/plain": [
       "<Figure size 640x480 with 2 Axes>"
      ]
     },
     "metadata": {},
     "output_type": "display_data"
    }
   ],
   "source": [
    "\n",
    "pipeline = Pipeline([\n",
    "    ('scaler', MinMaxScaler()),\n",
    "    ('pca', PCA()),\n",
    "    ('knn', KNeighborsClassifier())\n",
    "])\n",
    "\n",
    "\n",
    "# Define the parameters to test w/ nested CV\n",
    "param_grid = {'knn__n_neighbors': [2, 3, 5, 7, 9, 12], 'knn__weights': ['uniform', 'distance'], 'pca': [None, PCA(n_components=0.8), PCA(n_components=0.85), PCA(n_components=0.9), PCA(n_components=0.95)]}\n",
    "\n",
    "# Both CV folds\n",
    "outer_cv = StratifiedKFold(n_splits=5, shuffle=True)\n",
    "inner_cv = StratifiedKFold(n_splits=3, shuffle=True)\n",
    "\n",
    "# Get nested CV score\n",
    "grid_search = GridSearchCV(pipeline, param_grid, cv=inner_cv, scoring='accuracy')\n",
    "predictions = cross_val_predict(grid_search, features, labels, cv=outer_cv)\n",
    "\n",
    "accuracy = accuracy_score(labels, predictions)\n",
    "print(\"KNN Mean Accuracy: \", accuracy)\n",
    "\n",
    "print(\"KNN Classification Report: \\n\", classification_report(labels, predictions))\n",
    "\n",
    "conf_matrix = pd.crosstab(pd.Series(labels, name='Actual'), pd.Series(predictions, name='Predicted'), rownames=['Actual'], colnames=['Predicted'])\n",
    "\n",
    "sns.heatmap(conf_matrix, annot=True, fmt='d', cmap='Blues')\n",
    "plt.title(\"KNN Confusion Matrix\")\n",
    "plt.show()\n"
   ]
  },
  {
   "cell_type": "code",
   "execution_count": 55,
   "metadata": {},
   "outputs": [
    {
     "name": "stdout",
     "output_type": "stream",
     "text": [
      "Accuracy on the entire dataset: 0.719441638350629\n"
     ]
    }
   ],
   "source": [
    "from sklearn.metrics import accuracy_score\n",
    "#60% isn't that great... but that's okay\n",
    "grid_search.fit(features, labels)\n",
    "\n",
    "# Obtain the best estimator (final model) from the grid search object\n",
    "best_model = grid_search.best_estimator_\n",
    "\n",
    "label_pred = best_model.predict(features)\n",
    "\n",
    "accuracy = accuracy_score(labels, label_pred)\n",
    "\n",
    "print(\"Accuracy on the entire dataset:\", accuracy)"
   ]
  },
  {
   "cell_type": "markdown",
   "metadata": {},
   "source": [
    "# Naïve Bayes"
   ]
  },
  {
   "cell_type": "markdown",
   "metadata": {},
   "source": [
    "First, we have to import the necessary libraries for this approach to work"
   ]
  },
  {
   "cell_type": "code",
   "execution_count": 56,
   "metadata": {},
   "outputs": [],
   "source": [
    "from sklearn.model_selection import train_test_split\n",
    "from sklearn.preprocessing import LabelEncoder\n",
    "from sklearn.naive_bayes import GaussianNB\n",
    "from sklearn.model_selection import GridSearchCV\n",
    "import matplotlib.pyplot as plt"
   ]
  },
  {
   "cell_type": "code",
   "execution_count": 58,
   "metadata": {},
   "outputs": [
    {
     "name": "stdout",
     "output_type": "stream",
     "text": [
      "Naive Bayes Accuracy: 0.65 (+/- 0.01)\n",
      "Classification Report:\n",
      "              precision    recall  f1-score   support\n",
      "\n",
      "           0       0.54      0.97      0.69      4405\n",
      "           1       0.95      0.43      0.59      6484\n",
      "\n",
      "    accuracy                           0.65     10889\n",
      "   macro avg       0.74      0.70      0.64     10889\n",
      "weighted avg       0.78      0.65      0.63     10889\n",
      "\n"
     ]
    },
    {
     "data": {
      "image/png": "[encoded data removed]",
      "text/plain": [
       "<Figure size 640x480 with 2 Axes>"
      ]
     },
     "metadata": {},
     "output_type": "display_data"
    }
   ],
   "source": [
    "from sklearn.model_selection import StratifiedKFold\n",
    "\n",
    "kfold = StratifiedKFold(n_splits=5, shuffle=True, random_state=768)\n",
    "\n",
    "naive = GaussianNB()\n",
    "\n",
    "# cross-validation\n",
    "scores = []\n",
    "val_labels, val_predictions = [], []\n",
    "for train_index, val_index in kfold.split(features, labels):\n",
    "    # Get the training and validation data\n",
    "    features_train, features_val = features.iloc[train_index], features.iloc[val_index]\n",
    "    labels_train, labels_val = labels.iloc[train_index], labels.iloc[val_index]\n",
    "\n",
    "    # Fit the classifier on the training data\n",
    "    naive.fit(features_train, labels_train)\n",
    "\n",
    "    # Make predictions on the validation data\n",
    "    predictions = naive.predict(features_val)\n",
    "    val_labels.extend(labels_val)\n",
    "    val_predictions.extend(predictions)\n",
    "\n",
    "    # Calculate the accuracy of the classifier on the validation data\n",
    "    score = accuracy_score(labels_val, predictions)\n",
    "    scores.append(score)\n",
    "print(\"Naive Bayes Accuracy: %0.2f (+/- %0.2f)\" % (np.mean(scores), np.std(scores) * 2))\n",
    "\n",
    "# Display the classification report\n",
    "print(\"Classification Report:\")\n",
    "print(classification_report(val_labels, val_predictions))\n",
    "\n",
    "conf_matrix = pd.crosstab(pd.Series(val_labels, name='Actual'), pd.Series(val_predictions, name='Predicted'), rownames=['Actual'], colnames=['Predicted'])\n",
    "\n",
    "sns.heatmap(conf_matrix, annot=True, fmt='d', cmap='Blues')\n",
    "plt.title(\"Naïve Bayes Confusion Matrix\")\n",
    "plt.show()\n"
   ]
  },
  {
   "cell_type": "markdown",
   "metadata": {},
   "source": [
    "# Standard Vector Machine (SVM)"
   ]
  },
  {
   "cell_type": "code",
   "execution_count": 21,
   "metadata": {},
   "outputs": [],
   "source": [
    "from sklearn import svm"
   ]
  },
  {
   "cell_type": "code",
   "execution_count": 59,
   "metadata": {},
   "outputs": [],
   "source": [
    "model = svm.SVC()\n",
    "scaler = StandardScaler()\n",
    "pca = PCA()\n",
    "kfold = StratifiedKFold(n_splits=5, shuffle=True, random_state=768)\n",
    "\n",
    "\n",
    "pipeline = Pipeline([\n",
    "    ('scaler', scaler),\n",
    "    ('pca', pca),\n",
    "    ('svm', model)\n",
    "])\n",
    "\n",
    "param_grid = {\n",
    "    'pca__n_components': range(2, 6),\n",
    "    'svm__kernel': ['linear', 'rbf', 'poly']\n",
    "}\n",
    "\n",
    "grid_search = GridSearchCV(pipeline, param_grid, cv=kfold, scoring='accuracy')\n",
    "\n",
    "predictions = cross_val_predict(grid_search, features, labels, cv=kfold)"
   ]
  },
  {
   "cell_type": "code",
   "execution_count": 60,
   "metadata": {},
   "outputs": [
    {
     "name": "stdout",
     "output_type": "stream",
     "text": [
      "SVM Mean Accuracy:  0.6640646524015061\n",
      "SVM Classification Report: \n",
      "               precision    recall  f1-score   support\n",
      "\n",
      "           0       0.56      0.78      0.65      4405\n",
      "           1       0.80      0.58      0.67      6484\n",
      "\n",
      "    accuracy                           0.66     10889\n",
      "   macro avg       0.68      0.68      0.66     10889\n",
      "weighted avg       0.70      0.66      0.67     10889\n",
      "\n"
     ]
    },
    {
     "data": {
      "image/png": "[encoded data removed]",
      "text/plain": [
       "<Figure size 640x480 with 2 Axes>"
      ]
     },
     "metadata": {},
     "output_type": "display_data"
    }
   ],
   "source": [
    "accuracy = accuracy_score(labels, predictions)\n",
    "print(\"SVM Mean Accuracy: \", accuracy)\n",
    "\n",
    "print(\"SVM Classification Report: \\n\", classification_report(labels, predictions))\n",
    "\n",
    "conf_matrix = pd.crosstab(pd.Series(labels, name='Actual'), pd.Series(predictions, name='Predicted'), rownames=['Actual'], colnames=['Predicted'])\n",
    "\n",
    "sns.heatmap(conf_matrix, annot=True, fmt='d', cmap='Blues')\n",
    "plt.title(\"SVM Confusion Matrix\")\n",
    "plt.show()"
   ]
  },
  {
   "cell_type": "markdown",
   "metadata": {},
   "source": [
    "# Neural Network\n",
    "\n",
    "After attempting to use sklearn's MLPC classifier, we found that the accuracy was poor and sklearn's lack of optimization made the process very long with the size of our dataset. We decided to explore tensorflow and got better, and faster, results."
   ]
  },
  {
   "cell_type": "code",
   "execution_count": 61,
   "metadata": {},
   "outputs": [],
   "source": [
    "from tensorflow.keras.models import Sequential\n",
    "from tensorflow.keras.layers import Dense, Input, Dropout, BatchNormalization\n",
    "from scikeras.wrappers import KerasClassifier\n",
    "from sklearn.model_selection import train_test_split\n",
    "from tensorflow.keras.callbacks import EarlyStopping\n",
    "from sklearn.preprocessing import MinMaxScaler\n",
    "from sklearn.metrics import accuracy_score, confusion_matrix, classification_report\n",
    "import keras_tuner as kt\n",
    "import tensorflow as tf"
   ]
  },
  {
   "cell_type": "markdown",
   "metadata": {},
   "source": [
    "The function below is used to test hyperparameters on the deep learning sequential neural net. The hyperparameters tested were the number of hidden layers, number of nodes per layer, the activation function, the dropout rate, and the learning rate."
   ]
  },
  {
   "cell_type": "code",
   "execution_count": 62,
   "metadata": {},
   "outputs": [],
   "source": [
    "def tf_hyperparam_model(hp):\n",
    "    model = Sequential()\n",
    "\n",
    "    # hyperparameter: units per layer\n",
    "    hp_units = hp.Int('units', min_value=32, max_value=512, step=32)\n",
    "\n",
    "    # hyperparameter: number of hidden layers\n",
    "    hp_num_layers = hp.Int('num_layers', min_value=1, max_value=5, step=1)\n",
    "\n",
    "    # hyperparameter: activation function\n",
    "    hp_activation = hp.Choice('activation_function', values=['relu', 'tanh', 'sigmoid'])\n",
    "\n",
    "    # hyperparameter: dropout rate\n",
    "    hp_dropout = hp.Float('dropout', min_value=0.05, max_value=0.5, step=0.05)\n",
    "\n",
    "    model.add(Input(shape=(6,)))\n",
    "    for _ in range(hp_num_layers):\n",
    "        model.add(Dense(units=hp_units, activation=hp_activation))\n",
    "        model.add(Dropout(hp_dropout))\n",
    "        model.add(BatchNormalization())\n",
    "    model.add(Dense(1, activation='sigmoid'))\n",
    "\n",
    "    # hyperparameter: learning rate\n",
    "    hp_learning_rate = hp.Choice('learning_rate', values=[1e-2, 1e-3, 1e-4])\n",
    "    \n",
    "\n",
    "    model.compile(loss='binary_crossentropy', optimizer=tf.keras.optimizers.Adam(learning_rate=hp_learning_rate), metrics=['accuracy'])\n",
    "    return model"
   ]
  },
  {
   "cell_type": "markdown",
   "metadata": {},
   "source": [
    "The function below utilizes the model above to test hyperameters with a training and validation set. To speed this process up, we utilized Tensorflow's Hyperband tuning algorithm, which \"uses adaptive resource allocation and early-stopping to quickly converge on a high-performing model. This is done using a sports championship style bracket. The algorithm trains a large number of models for a few epochs and carries forward only the top-performing half of models to the next round.\" \n",
    "\n",
    "This is a much more efficient way to converge on the best hyperparameters, and beats other methods like grid search by miles."
   ]
  },
  {
   "cell_type": "code",
   "execution_count": 63,
   "metadata": {},
   "outputs": [
    {
     "name": "stdout",
     "output_type": "stream",
     "text": [
      "Trial 30 Complete [00h 00m 25s]\n",
      "val_accuracy: 0.6528925895690918\n",
      "\n",
      "Best val_accuracy So Far: 0.6818181872367859\n",
      "Total elapsed time: 00h 03m 35s\n",
      "Best hyperparameters: {'units': 448, 'num_layers': 2, 'activation_function': 'relu', 'dropout': 0.4, 'learning_rate': 0.01, 'tuner/epochs': 10, 'tuner/initial_epoch': 4, 'tuner/bracket': 2, 'tuner/round': 2, 'tuner/trial_id': '0013'}\n"
     ]
    }
   ],
   "source": [
    "def tf_hyperparam_tester():\n",
    "    # Split the data into training and validation sets\n",
    "    features_train, features_val, labels_train, labels_val = train_test_split(features, labels, test_size=0.2, random_state=42, shuffle=True)\n",
    "\n",
    "    # Scale the training features\n",
    "    scaler_train = StandardScaler()\n",
    "    features_train_scaled = scaler_train.fit_transform(features_train)\n",
    "\n",
    "    # Scale the validation features\n",
    "    scaler_val = StandardScaler()\n",
    "    features_val_scaled = scaler_val.fit_transform(features_val)\n",
    "\n",
    "    tuner = kt.Hyperband(tf_hyperparam_model,\n",
    "                        objective='val_accuracy',\n",
    "                        max_epochs=10,\n",
    "                        factor=3)\n",
    "\n",
    "    # search for the best hyperparameters\n",
    "    tuner.search(features_train_scaled, labels_train, \n",
    "                 validation_data=(features_val_scaled, labels_val), \n",
    "                 epochs=50, batch_size=64)\n",
    "\n",
    "    # Get the optimal hyperparameters\n",
    "    best_hps=tuner.get_best_hyperparameters(num_trials=1)[0]\n",
    "    return best_hps\n",
    "\n",
    "best_hps = tf_hyperparam_tester()\n",
    "print(\"Best hyperparameters:\", best_hps.values)\n"
   ]
  },
  {
   "cell_type": "markdown",
   "metadata": {},
   "source": [
    "Based on the results above, the best performing hyperparameters on the model were 2 hidden layers with 448 nodes per layer, the 'relu' activation function, a dropout rate of 0.4, and a learning rate of 0.01.\n",
    "\n",
    "We will run cross validation to get a final accuracy score on a model with these hyperparameters."
   ]
  },
  {
   "cell_type": "code",
   "execution_count": 64,
   "metadata": {},
   "outputs": [
    {
     "name": "stdout",
     "output_type": "stream",
     "text": [
      "Best hyperparameters found using Hyperband technique: {'units': 448, 'num_layers': 2, 'activation_function': 'relu', 'dropout': 0.4, 'learning_rate': 0.01, 'tuner/epochs': 10, 'tuner/initial_epoch': 4, 'tuner/bracket': 2, 'tuner/round': 2, 'tuner/trial_id': '0013'}\n",
      "Running cross val with best hyperparameters...\n"
     ]
    },
    {
     "name": "stderr",
     "output_type": "stream",
     "text": [
      "/usr/local/lib/python3.11/site-packages/keras/src/saving/saving_lib.py:418: UserWarning: Skipping variable loading for optimizer 'adam', because it has 22 variables whereas the saved optimizer has 2 variables. \n",
      "  trackable.load_own_variables(weights_store.get(inner_path))\n",
      "/usr/local/lib/python3.11/site-packages/keras/src/saving/saving_lib.py:418: UserWarning: Skipping variable loading for optimizer 'adam', because it has 22 variables whereas the saved optimizer has 2 variables. \n",
      "  trackable.load_own_variables(weights_store.get(inner_path))\n",
      "/usr/local/lib/python3.11/site-packages/keras/src/saving/saving_lib.py:418: UserWarning: Skipping variable loading for optimizer 'adam', because it has 22 variables whereas the saved optimizer has 2 variables. \n",
      "  trackable.load_own_variables(weights_store.get(inner_path))\n",
      "/usr/local/lib/python3.11/site-packages/keras/src/saving/saving_lib.py:418: UserWarning: Skipping variable loading for optimizer 'adam', because it has 22 variables whereas the saved optimizer has 2 variables. \n",
      "  trackable.load_own_variables(weights_store.get(inner_path))\n",
      "/usr/local/lib/python3.11/site-packages/keras/src/saving/saving_lib.py:418: UserWarning: Skipping variable loading for optimizer 'adam', because it has 22 variables whereas the saved optimizer has 2 variables. \n",
      "  trackable.load_own_variables(weights_store.get(inner_path))\n"
     ]
    }
   ],
   "source": [
    "# build a neural network with the optimal hyperparameters\n",
    "\n",
    "def tf_model(num_layers, num_units, dropout, activation_fn, learning_rate):\n",
    "    model = Sequential()\n",
    "\n",
    "    model.add(Input(shape=(6,)))\n",
    "    for _ in range(num_layers):\n",
    "        model.add(Dense(units=num_units, activation=activation_fn))\n",
    "        model.add(Dropout(dropout))\n",
    "        model.add(BatchNormalization())\n",
    "    model.add(Dense(1, activation='sigmoid'))\n",
    "\n",
    "    model.compile(loss='binary_crossentropy', optimizer=tf.keras.optimizers.Adam(learning_rate), metrics=['accuracy'])\n",
    "    return model\n",
    "\n",
    "def tf_model_cross_validate(num_layers, num_units, dropout, activation_fn, learning_rate):\n",
    "    scaler = StandardScaler()\n",
    "    kfold = StratifiedKFold(n_splits=5, shuffle=True, random_state=768)\n",
    "    nn = KerasClassifier(model=tf_model(num_layers, num_units, dropout, activation_fn, learning_rate), epochs=100, batch_size=128, verbose=0)\n",
    "    pipe = Pipeline(steps=[('scaler', scaler), ('nn', nn)])\n",
    "\n",
    "    predictions = cross_val_predict(pipe, features, labels, cv=kfold)\n",
    "    return predictions\n",
    "\n",
    "print(\"Best hyperparameters found using Hyperband technique:\", best_hps.values)\n",
    "print(\"Running cross val with best hyperparameters...\")\n",
    "predictions = tf_model_cross_validate(best_hps.values['num_layers'], best_hps.values['units'], best_hps.values['dropout'], best_hps.values['activation_function'], best_hps.values['learning_rate'])"
   ]
  },
  {
   "cell_type": "code",
   "execution_count": 65,
   "metadata": {},
   "outputs": [
    {
     "name": "stdout",
     "output_type": "stream",
     "text": [
      "Neural Net Mean Accuracy:  0.681972632932317\n",
      "Neural Net Classification Report: \n",
      "               precision    recall  f1-score   support\n",
      "\n",
      "           0       0.56      0.96      0.71      4405\n",
      "           1       0.95      0.49      0.65      6484\n",
      "\n",
      "    accuracy                           0.68     10889\n",
      "   macro avg       0.76      0.73      0.68     10889\n",
      "weighted avg       0.79      0.68      0.67     10889\n",
      "\n"
     ]
    },
    {
     "data": {
      "image/png": "[encoded data removed]",
      "text/plain": [
       "<Figure size 640x480 with 2 Axes>"
      ]
     },
     "metadata": {},
     "output_type": "display_data"
    }
   ],
   "source": [
    "accuracy = accuracy_score(labels, predictions)\n",
    "print(\"Neural Net Mean Accuracy: \", accuracy)\n",
    "\n",
    "print(\"Neural Net Classification Report: \\n\", classification_report(labels, predictions))\n",
    "\n",
    "conf_matrix = pd.crosstab(pd.Series(labels, name='Actual'), pd.Series(predictions, name='Predicted'), rownames=['Actual'], colnames=['Predicted'])\n",
    "\n",
    "sns.heatmap(conf_matrix, annot=True, fmt='d', cmap='Blues')\n",
    "plt.title(\"Neural Net Confusion Matrix\")\n",
    "plt.show()"
   ]
  },
  {
   "cell_type": "markdown",
   "metadata": {},
   "source": [
    "After all this work, the resulting accuracy on the neural net is less than hoped for. However, after doing more research I found that tensorflows neural nets are better suited to tasks such as image classification. Perhaps a different technique suited to tabular data, like XGBoost, would have been a better choice."
   ]
  },
  {
   "cell_type": "markdown",
   "metadata": {},
   "source": [
    "# Ensembling the Models"
   ]
  }
 ],
 "metadata": {
  "kernelspec": {
   "display_name": "Python 3",
   "language": "python",
   "name": "python3"
  },
  "language_info": {
   "codemirror_mode": {
    "name": "ipython",
    "version": 3
   },
   "file_extension": ".py",
   "mimetype": "text/x-python",
   "name": "python",
   "nbconvert_exporter": "python",
   "pygments_lexer": "ipython3",
   "version": "3.11.7"
  }
 },
 "nbformat": 4,
 "nbformat_minor": 2
}
