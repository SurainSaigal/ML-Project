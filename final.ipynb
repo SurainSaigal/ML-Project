{
 "cells": [
  {
   "cell_type": "markdown",
   "metadata": {},
   "source": [
    "# Machine Learning Project\n",
    "**Siddh Shah, Francis Yeh, Surain Saigal, Nathan Ma**\n",
    "\n",
    "Predicting whether packages are delivered late or not based on delivery data"
   ]
  },
  {
   "cell_type": "code",
   "execution_count": 3,
   "metadata": {},
   "outputs": [],
   "source": [
    "import numpy as np\n",
    "import pandas as pd\n",
    "import matplotlib.pyplot as plt\n",
    "from numpy.random import rand\n",
    "from numpy import square, sqrt\n",
    "from pandas import DataFrame\n",
    "%matplotlib inline"
   ]
  },
  {
   "cell_type": "markdown",
   "metadata": {},
   "source": [
    "# Data Preparation\n",
    "We will now load in the dataset from the CSV file. The data contains no missing values for any columns so no imputation or data cleanup is needed. We will look for anomalous rows later."
   ]
  },
  {
   "cell_type": "code",
   "execution_count": 4,
   "metadata": {},
   "outputs": [
    {
     "data": {
      "text/html": [
       "<div>\n",
       "<style scoped>\n",
       "    .dataframe tbody tr th:only-of-type {\n",
       "        vertical-align: middle;\n",
       "    }\n",
       "\n",
       "    .dataframe tbody tr th {\n",
       "        vertical-align: top;\n",
       "    }\n",
       "\n",
       "    .dataframe thead th {\n",
       "        text-align: right;\n",
       "    }\n",
       "</style>\n",
       "<table border=\"1\" class=\"dataframe\">\n",
       "  <thead>\n",
       "    <tr style=\"text-align: right;\">\n",
       "      <th></th>\n",
       "      <th>Warehouse_block</th>\n",
       "      <th>Mode_of_Shipment</th>\n",
       "      <th>Customer_care_calls</th>\n",
       "      <th>Customer_rating</th>\n",
       "      <th>Cost_of_the_Product</th>\n",
       "      <th>Prior_purchases</th>\n",
       "      <th>Product_importance</th>\n",
       "      <th>Gender</th>\n",
       "      <th>Discount_offered</th>\n",
       "      <th>Weight_in_gms</th>\n",
       "      <th>Reached.on.Time_Y.N</th>\n",
       "    </tr>\n",
       "  </thead>\n",
       "  <tbody>\n",
       "    <tr>\n",
       "      <th>0</th>\n",
       "      <td>D</td>\n",
       "      <td>Flight</td>\n",
       "      <td>4</td>\n",
       "      <td>2</td>\n",
       "      <td>177</td>\n",
       "      <td>3</td>\n",
       "      <td>low</td>\n",
       "      <td>F</td>\n",
       "      <td>44</td>\n",
       "      <td>1233</td>\n",
       "      <td>1</td>\n",
       "    </tr>\n",
       "    <tr>\n",
       "      <th>1</th>\n",
       "      <td>F</td>\n",
       "      <td>Flight</td>\n",
       "      <td>4</td>\n",
       "      <td>5</td>\n",
       "      <td>216</td>\n",
       "      <td>2</td>\n",
       "      <td>low</td>\n",
       "      <td>M</td>\n",
       "      <td>59</td>\n",
       "      <td>3088</td>\n",
       "      <td>1</td>\n",
       "    </tr>\n",
       "    <tr>\n",
       "      <th>2</th>\n",
       "      <td>A</td>\n",
       "      <td>Flight</td>\n",
       "      <td>2</td>\n",
       "      <td>2</td>\n",
       "      <td>183</td>\n",
       "      <td>4</td>\n",
       "      <td>low</td>\n",
       "      <td>M</td>\n",
       "      <td>48</td>\n",
       "      <td>3374</td>\n",
       "      <td>1</td>\n",
       "    </tr>\n",
       "    <tr>\n",
       "      <th>3</th>\n",
       "      <td>B</td>\n",
       "      <td>Flight</td>\n",
       "      <td>3</td>\n",
       "      <td>3</td>\n",
       "      <td>176</td>\n",
       "      <td>4</td>\n",
       "      <td>medium</td>\n",
       "      <td>M</td>\n",
       "      <td>10</td>\n",
       "      <td>1177</td>\n",
       "      <td>1</td>\n",
       "    </tr>\n",
       "    <tr>\n",
       "      <th>4</th>\n",
       "      <td>C</td>\n",
       "      <td>Flight</td>\n",
       "      <td>2</td>\n",
       "      <td>2</td>\n",
       "      <td>184</td>\n",
       "      <td>3</td>\n",
       "      <td>medium</td>\n",
       "      <td>F</td>\n",
       "      <td>46</td>\n",
       "      <td>2484</td>\n",
       "      <td>1</td>\n",
       "    </tr>\n",
       "  </tbody>\n",
       "</table>\n",
       "</div>"
      ],
      "text/plain": [
       "  Warehouse_block Mode_of_Shipment  Customer_care_calls  Customer_rating   \n",
       "0               D           Flight                    4                2  \\\n",
       "1               F           Flight                    4                5   \n",
       "2               A           Flight                    2                2   \n",
       "3               B           Flight                    3                3   \n",
       "4               C           Flight                    2                2   \n",
       "\n",
       "   Cost_of_the_Product  Prior_purchases Product_importance Gender   \n",
       "0                  177                3                low      F  \\\n",
       "1                  216                2                low      M   \n",
       "2                  183                4                low      M   \n",
       "3                  176                4             medium      M   \n",
       "4                  184                3             medium      F   \n",
       "\n",
       "   Discount_offered  Weight_in_gms  Reached.on.Time_Y.N  \n",
       "0                44           1233                    1  \n",
       "1                59           3088                    1  \n",
       "2                48           3374                    1  \n",
       "3                10           1177                    1  \n",
       "4                46           2484                    1  "
      ]
     },
     "execution_count": 4,
     "metadata": {},
     "output_type": "execute_result"
    }
   ],
   "source": [
    "# First, get the data from the CSV file\n",
    "df = pd.read_csv(\"dataset.csv\")\n",
    "\n",
    "# Drop the ID column\n",
    "df = df.drop(df.columns[0], axis=1)\n",
    "\n",
    "df.head()"
   ]
  },
  {
   "cell_type": "markdown",
   "metadata": {},
   "source": [
    "# Data Exploration and Visualization"
   ]
  },
  {
   "cell_type": "markdown",
   "metadata": {},
   "source": [
    "We are trying to predict the value of Reached.on.Time_Y.N based on the other features. In other words, we want to build a binary classification model that is trying to classify whether a certain package reached it's destination on time."
   ]
  },
  {
   "cell_type": "code",
   "execution_count": 6,
   "metadata": {},
   "outputs": [
    {
     "data": {
      "text/html": [
       "<div>\n",
       "<style scoped>\n",
       "    .dataframe tbody tr th:only-of-type {\n",
       "        vertical-align: middle;\n",
       "    }\n",
       "\n",
       "    .dataframe tbody tr th {\n",
       "        vertical-align: top;\n",
       "    }\n",
       "\n",
       "    .dataframe thead th {\n",
       "        text-align: right;\n",
       "    }\n",
       "</style>\n",
       "<table border=\"1\" class=\"dataframe\">\n",
       "  <thead>\n",
       "    <tr style=\"text-align: right;\">\n",
       "      <th></th>\n",
       "      <th>Warehouse_block</th>\n",
       "      <th>Mode_of_Shipment</th>\n",
       "      <th>Customer_care_calls</th>\n",
       "      <th>Customer_rating</th>\n",
       "      <th>Cost_of_the_Product</th>\n",
       "      <th>Prior_purchases</th>\n",
       "      <th>Product_importance</th>\n",
       "      <th>Gender</th>\n",
       "      <th>Discount_offered</th>\n",
       "      <th>Weight_in_gms</th>\n",
       "    </tr>\n",
       "  </thead>\n",
       "  <tbody>\n",
       "    <tr>\n",
       "      <th>0</th>\n",
       "      <td>D</td>\n",
       "      <td>Flight</td>\n",
       "      <td>4</td>\n",
       "      <td>2</td>\n",
       "      <td>177</td>\n",
       "      <td>3</td>\n",
       "      <td>low</td>\n",
       "      <td>F</td>\n",
       "      <td>44</td>\n",
       "      <td>1233</td>\n",
       "    </tr>\n",
       "    <tr>\n",
       "      <th>1</th>\n",
       "      <td>F</td>\n",
       "      <td>Flight</td>\n",
       "      <td>4</td>\n",
       "      <td>5</td>\n",
       "      <td>216</td>\n",
       "      <td>2</td>\n",
       "      <td>low</td>\n",
       "      <td>M</td>\n",
       "      <td>59</td>\n",
       "      <td>3088</td>\n",
       "    </tr>\n",
       "    <tr>\n",
       "      <th>2</th>\n",
       "      <td>A</td>\n",
       "      <td>Flight</td>\n",
       "      <td>2</td>\n",
       "      <td>2</td>\n",
       "      <td>183</td>\n",
       "      <td>4</td>\n",
       "      <td>low</td>\n",
       "      <td>M</td>\n",
       "      <td>48</td>\n",
       "      <td>3374</td>\n",
       "    </tr>\n",
       "    <tr>\n",
       "      <th>3</th>\n",
       "      <td>B</td>\n",
       "      <td>Flight</td>\n",
       "      <td>3</td>\n",
       "      <td>3</td>\n",
       "      <td>176</td>\n",
       "      <td>4</td>\n",
       "      <td>medium</td>\n",
       "      <td>M</td>\n",
       "      <td>10</td>\n",
       "      <td>1177</td>\n",
       "    </tr>\n",
       "    <tr>\n",
       "      <th>4</th>\n",
       "      <td>C</td>\n",
       "      <td>Flight</td>\n",
       "      <td>2</td>\n",
       "      <td>2</td>\n",
       "      <td>184</td>\n",
       "      <td>3</td>\n",
       "      <td>medium</td>\n",
       "      <td>F</td>\n",
       "      <td>46</td>\n",
       "      <td>2484</td>\n",
       "    </tr>\n",
       "  </tbody>\n",
       "</table>\n",
       "</div>"
      ],
      "text/plain": [
       "  Warehouse_block Mode_of_Shipment  Customer_care_calls  Customer_rating   \n",
       "0               D           Flight                    4                2  \\\n",
       "1               F           Flight                    4                5   \n",
       "2               A           Flight                    2                2   \n",
       "3               B           Flight                    3                3   \n",
       "4               C           Flight                    2                2   \n",
       "\n",
       "   Cost_of_the_Product  Prior_purchases Product_importance Gender   \n",
       "0                  177                3                low      F  \\\n",
       "1                  216                2                low      M   \n",
       "2                  183                4                low      M   \n",
       "3                  176                4             medium      M   \n",
       "4                  184                3             medium      F   \n",
       "\n",
       "   Discount_offered  Weight_in_gms  \n",
       "0                44           1233  \n",
       "1                59           3088  \n",
       "2                48           3374  \n",
       "3                10           1177  \n",
       "4                46           2484  "
      ]
     },
     "execution_count": 6,
     "metadata": {},
     "output_type": "execute_result"
    }
   ],
   "source": [
    "features = df.drop([\"Reached.on.Time_Y.N\"], axis=1)\n",
    "labels = df[\"Reached.on.Time_Y.N\"]\n",
    "features.head()"
   ]
  },
  {
   "cell_type": "markdown",
   "metadata": {},
   "source": [
    "Using our domain knowledge, we were unsure if Gender is an important feature in predicting whether the product was delivered on time. We will take a closer look using a bar chart and a chi-square test of statistical significance."
   ]
  },
  {
   "cell_type": "code",
   "execution_count": 7,
   "metadata": {},
   "outputs": [
    {
     "data": {
      "image/png": "[encoded data removed]",
      "text/plain": [
       "<Figure size 640x480 with 1 Axes>"
      ]
     },
     "metadata": {},
     "output_type": "display_data"
    },
    {
     "name": "stdout",
     "output_type": "stream",
     "text": [
      "Chi-squared statistic: [0.86654644 0.12814262]\n",
      "p-value: [0.35191318 0.72036566]\n"
     ]
    }
   ],
   "source": [
    "from scipy.stats import chisquare\n",
    "\n",
    "gender_vs_time = df.groupby(['Gender', 'Reached.on.Time_Y.N']).size().unstack().T\n",
    "\n",
    "\n",
    "gender_vs_time.plot(kind='bar', stacked=True)\n",
    "\n",
    "# Display the graph\n",
    "plt.show()\n",
    "\n",
    "#probably drop gender, roughly equal\n",
    "\n",
    "tab = pd.crosstab(df['Gender'], df['Reached.on.Time_Y.N'])\n",
    "\n",
    "chi, p_value = chisquare(tab)\n",
    "\n",
    "print(\"Chi-squared statistic:\", chi)\n",
    "print(\"p-value:\", p_value)"
   ]
  },
  {
   "cell_type": "markdown",
   "metadata": {},
   "source": [
    "The chi-square values and p-values between the two variables (gender and reached on time y/n) are relatively high. This indicated that there is no significant relationship between 'Gender' and 'Reached.on.Time_Y.N'. This conclusion is also supported by the visualization, which shows that the genders of the buyers of the packages is about evenly split whether the package reached on time or not. We have decided to drop the 'Gender' feature when we train our models."
   ]
  },
  {
   "cell_type": "markdown",
   "metadata": {},
   "source": [
    "We were also unsure about the importance of the Warehouse_block feature, so we decided to check it's statistical significance as well."
   ]
  },
  {
   "cell_type": "code",
   "execution_count": 8,
   "metadata": {},
   "outputs": [
    {
     "data": {
      "image/png": "[encoded data removed]",
      "text/plain": [
       "<Figure size 640x480 with 1 Axes>"
      ]
     },
     "metadata": {},
     "output_type": "display_data"
    },
    {
     "name": "stdout",
     "output_type": "stream",
     "text": [
      "Chi-squared statistic: [482.34310189 740.16090203]\n",
      "p-value: [4.41214072e-103 7.00761672e-159]\n"
     ]
    }
   ],
   "source": [
    "ware_vs_time = df.groupby(['Reached.on.Time_Y.N', 'Warehouse_block']).size().unstack().T\n",
    "\n",
    "\n",
    "ware_vs_time.plot(kind='bar', stacked=True)\n",
    "\n",
    "# Display the graph\n",
    "plt.show()\n",
    "\n",
    "tab = pd.crosstab(df['Warehouse_block'], df['Reached.on.Time_Y.N'])\n",
    "\n",
    "chi, p_value = chisquare(tab)\n",
    "\n",
    "print(\"Chi-squared statistic:\", chi)\n",
    "print(\"p-value:\", p_value)"
   ]
  },
  {
   "cell_type": "markdown",
   "metadata": {},
   "source": [
    "We found that the p-value between the warehouse block and the time reached on time is extremely low, and less than 0.05, so we can reject the null hypothesis that the warehouse block and the time reached on time are independent. The two are statistically dependent, so we can keep the warehouse block feature in our model. This is also supported by the bar chart above, where one can tell visually the warehouse block slightly affects the proportion of packages that are delivered on time."
   ]
  },
  {
   "cell_type": "markdown",
   "metadata": {},
   "source": [
    "Next, we decided to test if mode of shipment was statistically significant in relation to whether the packages reached on time."
   ]
  },
  {
   "cell_type": "code",
   "execution_count": 14,
   "metadata": {},
   "outputs": [
    {
     "data": {
      "image/png": "[encoded data removed]",
      "text/plain": [
       "<Figure size 640x480 with 1 Axes>"
      ]
     },
     "metadata": {},
     "output_type": "display_data"
    },
    {
     "name": "stdout",
     "output_type": "stream",
     "text": [
      "Chi-squared statistic: [2357.21325518 3537.56391894]\n",
      "p-value: [0. 0.]\n"
     ]
    }
   ],
   "source": [
    "mode_vs_time = df.groupby(['Reached.on.Time_Y.N', 'Mode_of_Shipment']).size().unstack().T\n",
    "\n",
    "\n",
    "mode_vs_time.plot(kind='bar', stacked=True)\n",
    "\n",
    "# Display the graph\n",
    "plt.show()\n",
    "\n",
    "tab = pd.crosstab(df['Mode_of_Shipment'], df['Reached.on.Time_Y.N'])\n",
    "\n",
    "chi, p_value = chisquare(tab)\n",
    "\n",
    "print(\"Chi-squared statistic:\", chi)\n",
    "print(\"p-value:\", p_value)"
   ]
  },
  {
   "cell_type": "markdown",
   "metadata": {},
   "source": [
    "We found that the p-value between the mode of shipment and whether the packaged reached on time is extremely low (so much so that they print out as just \"0\"), and less than 0.05, so we can reject the null hypothesis that the mode of shipment and the time reached on time are independent. The two are statistically dependent, so we can keep the mode of shioment feature in our model. This is also somewhat supported by the bar chart above, where one can tell visually the mode of shipment slightly affects the proportion of packages that are delivered on time. The proportion of results for each mode of shipment is not the only factor that determines the p-value, however, so we can still be confident that the two variables are statistically related."
   ]
  },
  {
   "cell_type": "markdown",
   "metadata": {},
   "source": [
    "We also decided to test product_importance for statistical significance."
   ]
  },
  {
   "cell_type": "code",
   "execution_count": 11,
   "metadata": {},
   "outputs": [
    {
     "data": {
      "image/png": "[encoded data removed]",
      "text/plain": [
       "<Figure size 640x480 with 1 Axes>"
      ]
     },
     "metadata": {},
     "output_type": "display_data"
    },
    {
     "name": "stdout",
     "output_type": "stream",
     "text": [
      "Chi-squared statistic: [1348.72633003 1719.02270303]\n",
      "p-value: [1.34214252e-293 0.00000000e+000]\n"
     ]
    }
   ],
   "source": [
    "importance_vs_time = df.groupby(['Product_importance', 'Reached.on.Time_Y.N']).size().unstack().T\n",
    "importance_vs_time.plot(kind='bar', stacked=True)\n",
    "\n",
    "# Display the graph\n",
    "plt.show()\n",
    "\n",
    "tab = pd.crosstab(df['Product_importance'], df['Reached.on.Time_Y.N'])\n",
    "\n",
    "chi, p_value = chisquare(tab)\n",
    "\n",
    "print(\"Chi-squared statistic:\", chi)\n",
    "print(\"p-value:\", p_value)"
   ]
  },
  {
   "cell_type": "markdown",
   "metadata": {},
   "source": [
    "The results of this chi-square test and the visualization above show that the two variables are highly correlated, so we will keep product_importance when training our models."
   ]
  },
  {
   "cell_type": "markdown",
   "metadata": {},
   "source": [
    "Now we will test the statistical significance of some of the numerical features of our dataset. We will use the point-biserial correlation coefficient to determine statistical signficance, since that measure is better suited when relating a continous variable to a binary variable that the standard Pearson correlation coefficient (r)."
   ]
  },
  {
   "cell_type": "code",
   "execution_count": 20,
   "metadata": {},
   "outputs": [
    {
     "name": "stdout",
     "output_type": "stream",
     "text": [
      "Customer rating Point-biserial correlation coefficient: 0.013118604264753572\n",
      "Customer rating p-value: 0.1689048972253054\n",
      "\n",
      "Customer care calls Point-biserial correlation coefficient: -0.06712585571198337\n",
      "Customer care calls p-value: 1.827535178623936e-12\n",
      "\n",
      "Prior purchases Point-biserial correlation coefficient: -0.05551501121359642\n",
      "Prior purchases p-value: 5.676140483966826e-09\n",
      "\n",
      "Weight in grams Point-biserial correlation coefficient: -0.2687925839387988\n",
      "Weight in grams p-value: 2.3546582802917458e-181\n",
      "\n",
      "Discount offered Point-biserial correlation coefficient: 0.39710847358321655\n",
      "Discount offered p-value: 0.0\n",
      "\n"
     ]
    }
   ],
   "source": [
    "from scipy.stats import pointbiserialr\n",
    "\n",
    "# Calculate the point-biserial correlation coefficient\n",
    "corr, p_value = pointbiserialr(df['Customer_rating'], df['Reached.on.Time_Y.N'])\n",
    "\n",
    "print(\"Customer rating Point-biserial correlation coefficient:\", corr)\n",
    "print(\"Customer rating p-value:\", p_value)\n",
    "print()\n",
    "\n",
    "corr, p_value = pointbiserialr(df['Customer_care_calls'], df['Reached.on.Time_Y.N'])\n",
    "\n",
    "print(\"Customer care calls Point-biserial correlation coefficient:\", corr)\n",
    "print(\"Customer care calls p-value:\", p_value)\n",
    "print()\n",
    "\n",
    "corr, p_value = pointbiserialr(df['Prior_purchases'], df['Reached.on.Time_Y.N'])\n",
    "print(\"Prior purchases Point-biserial correlation coefficient:\", corr)\n",
    "print(\"Prior purchases p-value:\", p_value)\n",
    "print()\n",
    "\n",
    "corr, p_value = pointbiserialr(df['Weight_in_gms'], df['Reached.on.Time_Y.N'])\n",
    "print(\"Weight in grams Point-biserial correlation coefficient:\", corr)\n",
    "print(\"Weight in grams p-value:\", p_value)\n",
    "print()\n",
    "\n",
    "corr, p_value = pointbiserialr(df['Discount_offered'], df['Reached.on.Time_Y.N'])\n",
    "print(\"Discount offered Point-biserial correlation coefficient:\", corr)\n",
    "print(\"Discount offered p-value:\", p_value)\n",
    "print()\n",
    "\n",
    "\n"
   ]
  },
  {
   "cell_type": "markdown",
   "metadata": {},
   "source": [
    "The output above displays the correlation coefficients and p-values for each continuous feature of the dataset in relation to whether the package was delivered on time or not. We can clearly see a stark difference between the values for customer rating, customer care calls, and prior purchases and the alues for weight in grams and discount offered. The first 3 features have correlations that are very close to 0, indicating weak correlation, and though they have small p-values, they are very large compared to the p0values for weight and discount offered. Weight in grams and discount offered both have significantly stronger correlations, and extremely small p-values. \n",
    "\n",
    "We decided that we will keep weight in grams and discount offered, but drop the other 3 continous features."
   ]
  },
  {
   "cell_type": "markdown",
   "metadata": {},
   "source": [
    "# Feature Selection and Engineering\n",
    "Based on the data visualizations and tests of statistical signifiance above, we decided to drop the Gender, Customer rating, Customer care calls, and prior purchases columns as they didn't have high statistical significance when related to Reached.on.Time_Y.N (our class label)."
   ]
  },
  {
   "cell_type": "code",
   "execution_count": 8,
   "metadata": {},
   "outputs": [
    {
     "data": {
      "text/html": [
       "<div>\n",
       "<style scoped>\n",
       "    .dataframe tbody tr th:only-of-type {\n",
       "        vertical-align: middle;\n",
       "    }\n",
       "\n",
       "    .dataframe tbody tr th {\n",
       "        vertical-align: top;\n",
       "    }\n",
       "\n",
       "    .dataframe thead th {\n",
       "        text-align: right;\n",
       "    }\n",
       "</style>\n",
       "<table border=\"1\" class=\"dataframe\">\n",
       "  <thead>\n",
       "    <tr style=\"text-align: right;\">\n",
       "      <th></th>\n",
       "      <th>Warehouse_block</th>\n",
       "      <th>Mode_of_Shipment</th>\n",
       "      <th>Cost_of_the_Product</th>\n",
       "      <th>Product_importance</th>\n",
       "      <th>Discount_offered</th>\n",
       "      <th>Weight_in_gms</th>\n",
       "      <th>Reached.on.Time_Y.N</th>\n",
       "    </tr>\n",
       "  </thead>\n",
       "  <tbody>\n",
       "    <tr>\n",
       "      <th>0</th>\n",
       "      <td>D</td>\n",
       "      <td>Flight</td>\n",
       "      <td>177</td>\n",
       "      <td>low</td>\n",
       "      <td>44</td>\n",
       "      <td>1233</td>\n",
       "      <td>1</td>\n",
       "    </tr>\n",
       "    <tr>\n",
       "      <th>1</th>\n",
       "      <td>F</td>\n",
       "      <td>Flight</td>\n",
       "      <td>216</td>\n",
       "      <td>low</td>\n",
       "      <td>59</td>\n",
       "      <td>3088</td>\n",
       "      <td>1</td>\n",
       "    </tr>\n",
       "    <tr>\n",
       "      <th>2</th>\n",
       "      <td>A</td>\n",
       "      <td>Flight</td>\n",
       "      <td>183</td>\n",
       "      <td>low</td>\n",
       "      <td>48</td>\n",
       "      <td>3374</td>\n",
       "      <td>1</td>\n",
       "    </tr>\n",
       "    <tr>\n",
       "      <th>3</th>\n",
       "      <td>B</td>\n",
       "      <td>Flight</td>\n",
       "      <td>176</td>\n",
       "      <td>medium</td>\n",
       "      <td>10</td>\n",
       "      <td>1177</td>\n",
       "      <td>1</td>\n",
       "    </tr>\n",
       "    <tr>\n",
       "      <th>4</th>\n",
       "      <td>C</td>\n",
       "      <td>Flight</td>\n",
       "      <td>184</td>\n",
       "      <td>medium</td>\n",
       "      <td>46</td>\n",
       "      <td>2484</td>\n",
       "      <td>1</td>\n",
       "    </tr>\n",
       "  </tbody>\n",
       "</table>\n",
       "</div>"
      ],
      "text/plain": [
       "  Warehouse_block Mode_of_Shipment  Cost_of_the_Product Product_importance   \n",
       "0               D           Flight                  177                low  \\\n",
       "1               F           Flight                  216                low   \n",
       "2               A           Flight                  183                low   \n",
       "3               B           Flight                  176             medium   \n",
       "4               C           Flight                  184             medium   \n",
       "\n",
       "   Discount_offered  Weight_in_gms  Reached.on.Time_Y.N  \n",
       "0                44           1233                    1  \n",
       "1                59           3088                    1  \n",
       "2                48           3374                    1  \n",
       "3                10           1177                    1  \n",
       "4                46           2484                    1  "
      ]
     },
     "execution_count": 8,
     "metadata": {},
     "output_type": "execute_result"
    }
   ],
   "source": [
    "#Dropping Gender, Customer Rating, Customer_care_calls, Prior Purchases\n",
    "df = df.drop([\"Gender\", \"Customer_rating\", \"Customer_care_calls\", \"Prior_purchases\"], axis=1)\n",
    "df.head()"
   ]
  },
  {
   "cell_type": "markdown",
   "metadata": {},
   "source": [
    "We need to split the data into features and labels. We decided to label-encode the categorical features, rather than one-hot encode, to avoid the curse of dimensionality that could arise from adding more columns."
   ]
  },
  {
   "cell_type": "markdown",
   "metadata": {},
   "source": [
    "Most models require the all features to be numeric. This means we need to convert categorical features to numeric ones. Because of this, we need a converter. \"LabelEncoder\" will convert categorical labels into a numerical format. Each unique category in a column is assigned a numerical id. This process is applied to all columns that are of object type (typically strings or categories). This is a crucial step because it turns the data into a suitable format for training ML models."
   ]
  },
  {
   "cell_type": "code",
   "execution_count": 21,
   "metadata": {},
   "outputs": [
    {
     "data": {
      "text/html": [
       "<div>\n",
       "<style scoped>\n",
       "    .dataframe tbody tr th:only-of-type {\n",
       "        vertical-align: middle;\n",
       "    }\n",
       "\n",
       "    .dataframe tbody tr th {\n",
       "        vertical-align: top;\n",
       "    }\n",
       "\n",
       "    .dataframe thead th {\n",
       "        text-align: right;\n",
       "    }\n",
       "</style>\n",
       "<table border=\"1\" class=\"dataframe\">\n",
       "  <thead>\n",
       "    <tr style=\"text-align: right;\">\n",
       "      <th></th>\n",
       "      <th>Warehouse_block</th>\n",
       "      <th>Mode_of_Shipment</th>\n",
       "      <th>Customer_care_calls</th>\n",
       "      <th>Customer_rating</th>\n",
       "      <th>Cost_of_the_Product</th>\n",
       "      <th>Prior_purchases</th>\n",
       "      <th>Product_importance</th>\n",
       "      <th>Gender</th>\n",
       "      <th>Discount_offered</th>\n",
       "      <th>Weight_in_gms</th>\n",
       "    </tr>\n",
       "  </thead>\n",
       "  <tbody>\n",
       "    <tr>\n",
       "      <th>0</th>\n",
       "      <td>3</td>\n",
       "      <td>0</td>\n",
       "      <td>4</td>\n",
       "      <td>2</td>\n",
       "      <td>177</td>\n",
       "      <td>3</td>\n",
       "      <td>1</td>\n",
       "      <td>0</td>\n",
       "      <td>44</td>\n",
       "      <td>1233</td>\n",
       "    </tr>\n",
       "    <tr>\n",
       "      <th>1</th>\n",
       "      <td>4</td>\n",
       "      <td>0</td>\n",
       "      <td>4</td>\n",
       "      <td>5</td>\n",
       "      <td>216</td>\n",
       "      <td>2</td>\n",
       "      <td>1</td>\n",
       "      <td>1</td>\n",
       "      <td>59</td>\n",
       "      <td>3088</td>\n",
       "    </tr>\n",
       "    <tr>\n",
       "      <th>2</th>\n",
       "      <td>0</td>\n",
       "      <td>0</td>\n",
       "      <td>2</td>\n",
       "      <td>2</td>\n",
       "      <td>183</td>\n",
       "      <td>4</td>\n",
       "      <td>1</td>\n",
       "      <td>1</td>\n",
       "      <td>48</td>\n",
       "      <td>3374</td>\n",
       "    </tr>\n",
       "    <tr>\n",
       "      <th>3</th>\n",
       "      <td>1</td>\n",
       "      <td>0</td>\n",
       "      <td>3</td>\n",
       "      <td>3</td>\n",
       "      <td>176</td>\n",
       "      <td>4</td>\n",
       "      <td>2</td>\n",
       "      <td>1</td>\n",
       "      <td>10</td>\n",
       "      <td>1177</td>\n",
       "    </tr>\n",
       "    <tr>\n",
       "      <th>4</th>\n",
       "      <td>2</td>\n",
       "      <td>0</td>\n",
       "      <td>2</td>\n",
       "      <td>2</td>\n",
       "      <td>184</td>\n",
       "      <td>3</td>\n",
       "      <td>2</td>\n",
       "      <td>0</td>\n",
       "      <td>46</td>\n",
       "      <td>2484</td>\n",
       "    </tr>\n",
       "  </tbody>\n",
       "</table>\n",
       "</div>"
      ],
      "text/plain": [
       "   Warehouse_block  Mode_of_Shipment  Customer_care_calls  Customer_rating   \n",
       "0                3                 0                    4                2  \\\n",
       "1                4                 0                    4                5   \n",
       "2                0                 0                    2                2   \n",
       "3                1                 0                    3                3   \n",
       "4                2                 0                    2                2   \n",
       "\n",
       "   Cost_of_the_Product  Prior_purchases  Product_importance  Gender   \n",
       "0                  177                3                   1       0  \\\n",
       "1                  216                2                   1       1   \n",
       "2                  183                4                   1       1   \n",
       "3                  176                4                   2       1   \n",
       "4                  184                3                   2       0   \n",
       "\n",
       "   Discount_offered  Weight_in_gms  \n",
       "0                44           1233  \n",
       "1                59           3088  \n",
       "2                48           3374  \n",
       "3                10           1177  \n",
       "4                46           2484  "
      ]
     },
     "execution_count": 21,
     "metadata": {},
     "output_type": "execute_result"
    }
   ],
   "source": [
    "from sklearn.preprocessing import LabelEncoder\n",
    "\n",
    "le = LabelEncoder()\n",
    "\n",
    "for col in df.select_dtypes(include=['object']).columns:\n",
    "    df[col] = le.fit_transform(df[col])\n",
    "\n",
    "features = df.drop([\"Reached.on.Time_Y.N\"], axis=1)\n",
    "labels = df[\"Reached.on.Time_Y.N\"]\n",
    "\n",
    "features.head()"
   ]
  },
  {
   "cell_type": "markdown",
   "metadata": {},
   "source": [
    "It should be noted that some of the models we will try out require scaling or dimensionality reductions of the features before training. This is technically part of feature engineering, but we will complete this step later on in this notebook as part of the pipelines to train the models."
   ]
  },
  {
   "cell_type": "markdown",
   "metadata": {},
   "source": [
    "# Anomaly Detection"
   ]
  },
  {
   "cell_type": "markdown",
   "metadata": {},
   "source": [
    "Anamoly Detection is used to eliminate \"anamolies\" in the records in hopes to present the best training set and increase the accuracy. "
   ]
  },
  {
   "cell_type": "code",
   "execution_count": 23,
   "metadata": {},
   "outputs": [
    {
     "name": "stdout",
     "output_type": "stream",
     "text": [
      "Number of Anomaly Rows:  110\n"
     ]
    }
   ],
   "source": [
    "from sklearn.ensemble import IsolationForest\n",
    "\n",
    "clf = IsolationForest(n_estimators=100, max_samples='auto', contamination=float(0.01), random_state=42)\n",
    "pred = clf.fit_predict(df[['Cost_of_the_Product', 'Weight_in_gms']])\n",
    "df['anomaly'] = pred\n",
    "outliers = df[df['anomaly'] == -1]\n",
    "\n",
    "print(\"Number of Anomaly Rows: \", len(outliers))"
   ]
  },
  {
   "cell_type": "markdown",
   "metadata": {},
   "source": [
    "Since our dataset is very large (11000 rows), losing 110 of them will likely not have a huge impact on performance. However, we will still drop the rows since they likely reflect errors in the real world data and could be adding unneccessary noise and bias to our models. "
   ]
  },
  {
   "cell_type": "code",
   "execution_count": 24,
   "metadata": {},
   "outputs": [
    {
     "name": "stdout",
     "output_type": "stream",
     "text": [
      "Number of Rows after dropping anomalies:  10889\n"
     ]
    }
   ],
   "source": [
    "# Drop anomalous rows\n",
    "\n",
    "anomaly_indices = df[df['anomaly'] == -1].index\n",
    "df = df.drop(anomaly_indices)\n",
    "\n",
    "features = df.drop([\"Reached.on.Time_Y.N\", \"anomaly\"], axis=1)\n",
    "labels = df[\"Reached.on.Time_Y.N\"]\n",
    "\n",
    "print(\"Number of Rows after dropping anomalies: \", len(df))"
   ]
  },
  {
   "cell_type": "markdown",
   "metadata": {},
   "source": [
    "# Training the Models\n",
    "After cleaning, exploring, and engineering our data, our group decided that we would train 4 different models (KNN, SVM, Neural Network, Naive Bayes) to see which would perform best on our dataset. If all come out with relatively good accuracies, the plan is to heterogeneously ensemble them to achieve an even higher performance."
   ]
  },
  {
   "cell_type": "markdown",
   "metadata": {},
   "source": [
    "# KNN Model"
   ]
  },
  {
   "cell_type": "markdown",
   "metadata": {},
   "source": [
    "A KNN is a simple model but might provide good results for our binary classification problem."
   ]
  },
  {
   "cell_type": "code",
   "execution_count": 28,
   "metadata": {},
   "outputs": [],
   "source": [
    "from sklearn.model_selection import GridSearchCV, cross_val_score, StratifiedKFold, cross_val_predict\n",
    "from sklearn.pipeline import Pipeline\n",
    "from sklearn.preprocessing import MinMaxScaler, StandardScaler\n",
    "from sklearn.neighbors import KNeighborsClassifier\n",
    "from sklearn.decomposition import PCA\n",
    "from sklearn.metrics import accuracy_score, classification_report\n",
    "import seaborn as sns"
   ]
  },
  {
   "cell_type": "code",
   "execution_count": 14,
   "metadata": {},
   "outputs": [
    {
     "name": "stdout",
     "output_type": "stream",
     "text": [
      "KNN Mean Accuracy:  0.65286068509505\n",
      "KNN Classification Report: \n",
      "               precision    recall  f1-score   support\n",
      "\n",
      "           0       0.55      0.72      0.63      4405\n",
      "           1       0.76      0.61      0.68      6484\n",
      "\n",
      "    accuracy                           0.65     10889\n",
      "   macro avg       0.66      0.66      0.65     10889\n",
      "weighted avg       0.68      0.65      0.66     10889\n",
      "\n"
     ]
    },
    {
     "data": {
      "image/png": "[encoded data removed]",
      "text/plain": [
       "<Figure size 640x480 with 2 Axes>"
      ]
     },
     "metadata": {},
     "output_type": "display_data"
    }
   ],
   "source": [
    "\n",
    "pipeline = Pipeline([\n",
    "    ('scaler', MinMaxScaler()),\n",
    "    ('pca', PCA()),\n",
    "    ('knn', KNeighborsClassifier())\n",
    "])\n",
    "\n",
    "\n",
    "# Define the parameters to test w/ nested CV\n",
    "param_grid = {'knn__n_neighbors': [2, 3, 5, 7, 9, 12], 'knn__weights': ['uniform', 'distance'], 'pca': [None, PCA(n_components=0.8), PCA(n_components=0.85), PCA(n_components=0.9), PCA(n_components=0.95)]}\n",
    "\n",
    "# Both CV folds\n",
    "outer_cv = StratifiedKFold(n_splits=5, shuffle=True)\n",
    "inner_cv = StratifiedKFold(n_splits=3, shuffle=True)\n",
    "\n",
    "# Get nested CV score\n",
    "grid_search = GridSearchCV(pipeline, param_grid, cv=inner_cv, scoring='accuracy')\n",
    "predictions = cross_val_predict(grid_search, features, labels, cv=outer_cv)\n",
    "\n",
    "accuracy = accuracy_score(labels, predictions)\n",
    "print(\"KNN Mean Accuracy: \", accuracy)\n",
    "\n",
    "print(\"KNN Classification Report: \\n\", classification_report(labels, predictions))\n",
    "\n",
    "conf_matrix = pd.crosstab(pd.Series(labels, name='Actual'), pd.Series(predictions, name='Predicted'), rownames=['Actual'], colnames=['Predicted'])\n",
    "\n",
    "sns.heatmap(conf_matrix, annot=True, fmt='d', cmap='Blues')\n",
    "plt.title(\"KNN Confusion Matrix\")\n",
    "plt.show()\n"
   ]
  },
  {
   "cell_type": "markdown",
   "metadata": {},
   "source": [
    "The KNN's accuracy is higher than we thought it would be and has a similar f1-score. The confusion matrix shows that the model had the biggest issue with false negatives. It has a good precision but lower recall. "
   ]
  },
  {
   "cell_type": "code",
   "execution_count": 15,
   "metadata": {},
   "outputs": [
    {
     "name": "stdout",
     "output_type": "stream",
     "text": [
      "Accuracy on the entire dataset: 0.719441638350629\n"
     ]
    }
   ],
   "source": [
    "from sklearn.metrics import accuracy_score\n",
    "#60% isn't that great... but that's okay\n",
    "grid_search.fit(features, labels)\n",
    "\n",
    "# Obtain the best estimator (final model) from the grid search object\n",
    "best_model = grid_search.best_estimator_\n",
    "\n",
    "label_pred = best_model.predict(features)\n",
    "\n",
    "accuracy = accuracy_score(labels, label_pred)\n",
    "\n",
    "print(\"Accuracy on the entire dataset:\", accuracy)"
   ]
  },
  {
   "cell_type": "code",
   "execution_count": 16,
   "metadata": {
    "scrolled": true
   },
   "outputs": [
    {
     "name": "stdout",
     "output_type": "stream",
     "text": [
      "{'knn__n_neighbors': 12, 'knn__weights': 'uniform', 'pca': None}\n"
     ]
    }
   ],
   "source": [
    "best_params = grid_search.best_params_\n",
    "print(best_params) # we need to this for ensembling"
   ]
  },
  {
   "cell_type": "markdown",
   "metadata": {},
   "source": [
    "The parameters above show the best hyperparameters when using KNN."
   ]
  },
  {
   "cell_type": "markdown",
   "metadata": {},
   "source": [
    "# Naïve Bayes"
   ]
  },
  {
   "cell_type": "markdown",
   "metadata": {},
   "source": [
    "First, we have to import the necessary libraries for this approach to work"
   ]
  },
  {
   "cell_type": "code",
   "execution_count": 26,
   "metadata": {},
   "outputs": [],
   "source": [
    "from sklearn.model_selection import train_test_split\n",
    "from sklearn.preprocessing import LabelEncoder\n",
    "from sklearn.naive_bayes import GaussianNB\n",
    "from sklearn.model_selection import GridSearchCV\n",
    "import matplotlib.pyplot as plt"
   ]
  },
  {
   "cell_type": "code",
   "execution_count": 29,
   "metadata": {},
   "outputs": [
    {
     "name": "stdout",
     "output_type": "stream",
     "text": [
      "Naive Bayes Accuracy: 0.65 (+/- 0.01)\n",
      "Classification Report:\n",
      "              precision    recall  f1-score   support\n",
      "\n",
      "           0       0.54      0.99      0.70      4405\n",
      "           1       0.98      0.42      0.59      6484\n",
      "\n",
      "    accuracy                           0.65     10889\n",
      "   macro avg       0.76      0.70      0.64     10889\n",
      "weighted avg       0.80      0.65      0.63     10889\n",
      "\n"
     ]
    },
    {
     "data": {
      "image/png": "[encoded data removed]",
      "text/plain": [
       "<Figure size 640x480 with 2 Axes>"
      ]
     },
     "metadata": {},
     "output_type": "display_data"
    }
   ],
   "source": [
    "from sklearn.model_selection import StratifiedKFold\n",
    "\n",
    "kfold = StratifiedKFold(n_splits=5, shuffle=True, random_state=768)\n",
    "\n",
    "naive = GaussianNB()\n",
    "\n",
    "# cross-validation\n",
    "scores = []\n",
    "val_labels, val_predictions = [], []\n",
    "for train_index, val_index in kfold.split(features, labels):\n",
    "    # Get the training and validation data\n",
    "    features_train, features_val = features.iloc[train_index], features.iloc[val_index]\n",
    "    labels_train, labels_val = labels.iloc[train_index], labels.iloc[val_index]\n",
    "\n",
    "    # Fit the classifier on the training data\n",
    "    naive.fit(features_train, labels_train)\n",
    "\n",
    "    # Make predictions on the validation data\n",
    "    predictions = naive.predict(features_val)\n",
    "    val_labels.extend(labels_val)\n",
    "    val_predictions.extend(predictions)\n",
    "\n",
    "    # Calculate the accuracy of the classifier on the validation data\n",
    "    score = accuracy_score(labels_val, predictions)\n",
    "    scores.append(score)\n",
    "print(\"Naive Bayes Accuracy: %0.2f (+/- %0.2f)\" % (np.mean(scores), np.std(scores) * 2))\n",
    "\n",
    "# Display the classification report\n",
    "print(\"Classification Report:\")\n",
    "print(classification_report(val_labels, val_predictions))\n",
    "\n",
    "conf_matrix = pd.crosstab(pd.Series(val_labels, name='Actual'), pd.Series(val_predictions, name='Predicted'), rownames=['Actual'], colnames=['Predicted'])\n",
    "\n",
    "sns.heatmap(conf_matrix, annot=True, fmt='d', cmap='Blues')\n",
    "plt.title(\"Naïve Bayes Confusion Matrix\")\n",
    "plt.show()\n",
    "\n",
    "# NB has no hyperparameters to tune; will just construct for Ensemble"
   ]
  },
  {
   "cell_type": "markdown",
   "metadata": {},
   "source": [
    "The Naive Bayes model also performed relatively well, with an accuracy of 0.65. This model had very few false positives (with a recall of 0.99 on the 'No' class), but struggled a lot with false negatives. It has a very good precision but low recall. It's f1-score is lower than KNNs. "
   ]
  },
  {
   "cell_type": "markdown",
   "metadata": {},
   "source": [
    "# Standard Vector Machine (SVM)"
   ]
  },
  {
   "cell_type": "code",
   "execution_count": 22,
   "metadata": {},
   "outputs": [],
   "source": [
    "from sklearn import svm"
   ]
  },
  {
   "cell_type": "code",
   "execution_count": 18,
   "metadata": {},
   "outputs": [],
   "source": [
    "model = svm.SVC()\n",
    "scaler = StandardScaler()\n",
    "pca = PCA()\n",
    "kfold = StratifiedKFold(n_splits=5, shuffle=True, random_state=768)\n",
    "\n",
    "\n",
    "pipeline = Pipeline([\n",
    "    ('scaler', scaler),\n",
    "    ('pca', pca),\n",
    "    ('svm', model)\n",
    "])\n",
    "\n",
    "param_grid = {\n",
    "    'pca__n_components': range(2, 6),\n",
    "    'svm__kernel': ['linear', 'rbf', 'poly']\n",
    "}\n",
    "\n",
    "grid_search = GridSearchCV(pipeline, param_grid, cv=kfold, scoring='accuracy')\n",
    "\n",
    "predictions = cross_val_predict(grid_search, features, labels, cv=kfold)"
   ]
  },
  {
   "cell_type": "code",
   "execution_count": 21,
   "metadata": {},
   "outputs": [
    {
     "name": "stdout",
     "output_type": "stream",
     "text": [
      "SVM Mean Accuracy:  0.6640646524015061\n",
      "SVM Classification Report: \n",
      "               precision    recall  f1-score   support\n",
      "\n",
      "           0       0.56      0.78      0.65      4405\n",
      "           1       0.80      0.58      0.67      6484\n",
      "\n",
      "    accuracy                           0.66     10889\n",
      "   macro avg       0.68      0.68      0.66     10889\n",
      "weighted avg       0.70      0.66      0.67     10889\n",
      "\n"
     ]
    },
    {
     "data": {
      "image/png": "[encoded data removed]",
      "text/plain": [
       "<Figure size 640x480 with 2 Axes>"
      ]
     },
     "metadata": {},
     "output_type": "display_data"
    },
    {
     "name": "stdout",
     "output_type": "stream",
     "text": [
      "{'pca__n_components': 2, 'svm__kernel': 'rbf'}\n"
     ]
    }
   ],
   "source": [
    "accuracy = accuracy_score(labels, predictions)\n",
    "print(\"SVM Mean Accuracy: \", accuracy)\n",
    "\n",
    "print(\"SVM Classification Report: \\n\", classification_report(labels, predictions))\n",
    "\n",
    "conf_matrix = pd.crosstab(pd.Series(labels, name='Actual'), pd.Series(predictions, name='Predicted'), rownames=['Actual'], colnames=['Predicted'])\n",
    "\n",
    "sns.heatmap(conf_matrix, annot=True, fmt='d', cmap='Blues')\n",
    "plt.title(\"SVM Confusion Matrix\")\n",
    "plt.show()\n",
    "\n",
    "grid_search.fit(features, labels)\n",
    "best_params = grid_search.best_params_\n",
    "print(best_params) #best params to construct SVM with in ensemble "
   ]
  },
  {
   "cell_type": "markdown",
   "metadata": {},
   "source": [
    "The SVM had the highest accuracy of all the models so far, with 0.66. The models f1-score is better than Naive Bayes but lower than KNN. It struggled the most with false negatives. The best number of components for dimensionality reduction and the best model kernel are shown above. "
   ]
  },
  {
   "cell_type": "markdown",
   "metadata": {},
   "source": [
    "# Neural Network\n",
    "\n",
    "After attempting to use sklearn's MLPC neural net classifier, we found that the accuracy was poor and sklearn's lack of optimization made the process very long with the size of our dataset. We decided to explore tensorflow and got better, and faster, results."
   ]
  },
  {
   "cell_type": "code",
   "execution_count": 32,
   "metadata": {},
   "outputs": [],
   "source": [
    "from tensorflow.keras.models import Sequential\n",
    "from tensorflow.keras.layers import Dense, Input, Dropout, BatchNormalization\n",
    "from scikeras.wrappers import KerasClassifier\n",
    "from sklearn.model_selection import train_test_split\n",
    "from tensorflow.keras.callbacks import EarlyStopping\n",
    "from sklearn.preprocessing import StandardScaler\n",
    "from sklearn.metrics import accuracy_score, confusion_matrix, classification_report\n",
    "import keras_tuner as kt\n",
    "import tensorflow as tf\n",
    "import warnings"
   ]
  },
  {
   "cell_type": "markdown",
   "metadata": {},
   "source": [
    "The function below is used to test hyperparameters on the deep learning sequential neural net. The hyperparameters tested were the number of hidden layers, number of nodes per layer, the activation function, the dropout rate, and the learning rate."
   ]
  },
  {
   "cell_type": "code",
   "execution_count": 3,
   "metadata": {},
   "outputs": [],
   "source": [
    "def tf_hyperparam_model(hp):\n",
    "    model = Sequential()\n",
    "\n",
    "    # hyperparameter: units per layer\n",
    "    hp_units = hp.Int('units', min_value=32, max_value=512, step=32)\n",
    "\n",
    "    # hyperparameter: number of hidden layers\n",
    "    hp_num_layers = hp.Int('num_layers', min_value=1, max_value=5, step=1)\n",
    "\n",
    "    # hyperparameter: activation function\n",
    "    hp_activation = hp.Choice('activation_function', values=['relu', 'tanh', 'sigmoid'])\n",
    "\n",
    "    # hyperparameter: dropout rate\n",
    "    hp_dropout = hp.Float('dropout', min_value=0.05, max_value=0.5, step=0.05)\n",
    "\n",
    "    model.add(Input(shape=(6,)))\n",
    "    for _ in range(hp_num_layers):\n",
    "        model.add(Dense(units=hp_units, activation=hp_activation))\n",
    "        model.add(Dropout(hp_dropout))\n",
    "        model.add(BatchNormalization())\n",
    "    model.add(Dense(1, activation='sigmoid'))\n",
    "\n",
    "    # hyperparameter: learning rate\n",
    "    hp_learning_rate = hp.Choice('learning_rate', values=[1e-2, 1e-3, 1e-4])\n",
    "    \n",
    "\n",
    "    model.compile(loss='binary_crossentropy', optimizer=tf.keras.optimizers.Adam(learning_rate=hp_learning_rate), metrics=['accuracy'])\n",
    "    return model"
   ]
  },
  {
   "cell_type": "markdown",
   "metadata": {},
   "source": [
    "The function below utilizes the model above to test hyperameters with a training and validation set. To speed this process up, we utilized Tensorflow's Hyperband tuning algorithm, which \"uses adaptive resource allocation and early-stopping to quickly converge on a high-performing model. This is done using a sports championship style bracket. The algorithm trains a large number of models for a few epochs and carries forward only the top-performing half of models to the next round.\" \n",
    "\n",
    "This is a much more efficient way to converge on the best hyperparameters, and beats other methods like grid search by miles."
   ]
  },
  {
   "cell_type": "code",
   "execution_count": 14,
   "metadata": {},
   "outputs": [
    {
     "name": "stdout",
     "output_type": "stream",
     "text": [
      "Trial 30 Complete [00h 00m 28s]\n",
      "val_accuracy: 0.6629935503005981\n",
      "\n",
      "Best val_accuracy So Far: 0.6795225143432617\n",
      "Total elapsed time: 00h 05m 06s\n",
      "Best hyperparameters: {'units': 256, 'num_layers': 4, 'activation_function': 'relu', 'dropout': 0.45, 'learning_rate': 0.01, 'tuner/epochs': 10, 'tuner/initial_epoch': 0, 'tuner/bracket': 0, 'tuner/round': 0}\n"
     ]
    }
   ],
   "source": [
    "def tf_hyperparam_tester():\n",
    "    # Split the data into training and validation sets\n",
    "    features_train, features_val, labels_train, labels_val = train_test_split(features, labels, test_size=0.2, random_state=42, shuffle=True)\n",
    "\n",
    "    # Scale the training features\n",
    "    scaler_train = StandardScaler()\n",
    "    features_train_scaled = scaler_train.fit_transform(features_train)\n",
    "\n",
    "    # Scale the validation features\n",
    "    scaler_val = StandardScaler()\n",
    "    features_val_scaled = scaler_val.fit_transform(features_val)\n",
    "\n",
    "    tuner = kt.Hyperband(tf_hyperparam_model,\n",
    "                        objective='val_accuracy',\n",
    "                        max_epochs=10,\n",
    "                        factor=3)\n",
    "\n",
    "    # search for the best hyperparameters\n",
    "    tuner.search(features_train_scaled, labels_train, \n",
    "                 validation_data=(features_val_scaled, labels_val), \n",
    "                 epochs=50, batch_size=64)\n",
    "\n",
    "    # Get the optimal hyperparameters\n",
    "    best_hps=tuner.get_best_hyperparameters(num_trials=1)[0]\n",
    "    return best_hps\n",
    "\n",
    "best_hps = tf_hyperparam_tester()\n",
    "print(\"Best hyperparameters:\", best_hps.values)\n"
   ]
  },
  {
   "cell_type": "markdown",
   "metadata": {},
   "source": [
    "Based on the results above, the best performing hyperparameters on the model were 4 hidden layers with 256 nodes per layer, the 'relu' activation function, a dropout rate of 0.45, and a learning rate of 0.01.\n",
    "\n",
    "We will run cross validation to get a final accuracy score on a model with these hyperparameters."
   ]
  },
  {
   "cell_type": "code",
   "execution_count": 19,
   "metadata": {},
   "outputs": [
    {
     "name": "stdout",
     "output_type": "stream",
     "text": [
      "Best hyperparameters found using Hyperband technique: {'units': 256, 'num_layers': 4, 'activation_function': 'relu', 'dropout': 0.45, 'learning_rate': 0.01, 'tuner/epochs': 10, 'tuner/initial_epoch': 0, 'tuner/bracket': 0, 'tuner/round': 0}\n",
      "Running cross val with best hyperparameters...\n"
     ]
    }
   ],
   "source": [
    "# build a neural network with the optimal hyperparameters\n",
    "\n",
    "warnings.filterwarnings('ignore', category=UserWarning)\n",
    "def tf_model(num_layers, num_units, dropout, activation_fn, learning_rate):\n",
    "    model = Sequential()\n",
    "\n",
    "    model.add(Input(shape=(6,)))\n",
    "    for _ in range(num_layers):\n",
    "        model.add(Dense(units=num_units, activation=activation_fn))\n",
    "        model.add(Dropout(dropout))\n",
    "        model.add(BatchNormalization())\n",
    "    model.add(Dense(1, activation='sigmoid'))\n",
    "\n",
    "    model.compile(loss='binary_crossentropy', optimizer=tf.keras.optimizers.Adam(learning_rate), metrics=['accuracy'])\n",
    "    return model\n",
    "\n",
    "def tf_model_cross_validate(num_layers, num_units, dropout, activation_fn, learning_rate):\n",
    "    scaler = StandardScaler()\n",
    "    kfold = StratifiedKFold(n_splits=5, shuffle=True, random_state=768)\n",
    "    nn = KerasClassifier(model=tf_model(num_layers, num_units, dropout, activation_fn, learning_rate), epochs=100, batch_size=128, verbose=0)\n",
    "    pipe = Pipeline(steps=[('scaler', scaler), ('nn', nn)])\n",
    "\n",
    "    predictions = cross_val_predict(pipe, features, labels, cv=kfold)\n",
    "    return predictions\n",
    "\n",
    "print(\"Best hyperparameters found using Hyperband technique:\", best_hps.values)\n",
    "print(\"Running cross val with best hyperparameters...\")\n",
    "predictions = tf_model_cross_validate(best_hps.values['num_layers'], best_hps.values['units'], best_hps.values['dropout'], best_hps.values['activation_function'], best_hps.values['learning_rate'])"
   ]
  },
  {
   "cell_type": "code",
   "execution_count": 20,
   "metadata": {},
   "outputs": [
    {
     "name": "stdout",
     "output_type": "stream",
     "text": [
      "Neural Net Mean Accuracy:  0.6805950959684085\n",
      "Neural Net Classification Report: \n",
      "               precision    recall  f1-score   support\n",
      "\n",
      "           0       0.56      0.97      0.71      4405\n",
      "           1       0.96      0.48      0.64      6484\n",
      "\n",
      "    accuracy                           0.68     10889\n",
      "   macro avg       0.76      0.73      0.68     10889\n",
      "weighted avg       0.80      0.68      0.67     10889\n",
      "\n"
     ]
    },
    {
     "data": {
      "image/png": "[encoded data removed]",
      "text/plain": [
       "<Figure size 640x480 with 2 Axes>"
      ]
     },
     "metadata": {},
     "output_type": "display_data"
    }
   ],
   "source": [
    "accuracy = accuracy_score(labels, predictions)\n",
    "print(\"Neural Net Mean Accuracy: \", accuracy)\n",
    "\n",
    "print(\"Neural Net Classification Report: \\n\", classification_report(labels, predictions))\n",
    "\n",
    "conf_matrix = pd.crosstab(pd.Series(labels, name='Actual'), pd.Series(predictions, name='Predicted'), rownames=['Actual'], colnames=['Predicted'])\n",
    "\n",
    "sns.heatmap(conf_matrix, annot=True, fmt='d', cmap='Blues')\n",
    "plt.title(\"Neural Net Confusion Matrix\")\n",
    "plt.show()"
   ]
  },
  {
   "cell_type": "markdown",
   "metadata": {},
   "source": [
    "After all this work, the resulting accuracy on the neural net is better than any other models with 0.68, but still less than hoped for. It had a very good precision but low recall. The f1-score is also lower than KNN and SVM. However, after doing more research I found that tensorflows neural nets are better suited to tasks such as image classification. Perhaps a different technique suited to tabular data, like XGBoost, would have been a better choice."
   ]
  },
  {
   "cell_type": "markdown",
   "metadata": {},
   "source": [
    "# Ensembling the Models"
   ]
  },
  {
   "cell_type": "code",
   "execution_count": 24,
   "metadata": {},
   "outputs": [
    {
     "name": "stdout",
     "output_type": "stream",
     "text": [
      "{'KNN': 0.6597796143250688, 'Naive Bayes': 0.6593204775022957, 'SVM': 0.6707988980716253, 'Neural Network': 0.6781450872359963}\n",
      "{'KNN': 0.6662075298438935, 'Naive Bayes': 0.647842056932966, 'SVM': 0.669880624426079, 'Neural Network': 0.6831955922865014}\n",
      "{'KNN': 0.6643709825528007, 'Naive Bayes': 0.6382001836547291, 'SVM': 0.6556473829201102, 'Neural Network': 0.6744719926538109}\n",
      "{'KNN': 0.6685032139577594, 'Naive Bayes': 0.6542699724517906, 'SVM': 0.6671258034894398, 'Neural Network': 0.6873278236914601}\n",
      "{'KNN': 0.6646761598530088, 'Naive Bayes': 0.6430868167202572, 'SVM': 0.6655948553054662, 'Neural Network': 0.6816720257234726}\n",
      "Overall CV accuracy of ensemble: 0.6795848829464731\n"
     ]
    }
   ],
   "source": [
    "from sklearn.model_selection import StratifiedKFold\n",
    "from sklearn.metrics import accuracy_score\n",
    "from sklearn.base import clone\n",
    "from scipy.stats import mode\n",
    "\n",
    "\n",
    "#Different models with best params from earlier found\n",
    "models = {\n",
    "    \"KNN\": KNeighborsClassifier(n_neighbors=12, weights='uniform'),\n",
    "    \"Naive Bayes\": GaussianNB(),\n",
    "    \"SVM\": Pipeline([\n",
    "        ('scaler', StandardScaler()),\n",
    "        ('pca', PCA(n_components=2)),\n",
    "        ('svm', svm.SVC(kernel='rbf'))\n",
    "    ]),\n",
    "    \"Neural Network\": Pipeline([\n",
    "        ('scaler', StandardScaler()),\n",
    "        ('nn', KerasClassifier(model=tf_model(best_hps['num_layers'], best_hps['units'], best_hps['dropout'], best_hps['activation_function'], best_hps['learning_rate']), epochs=100, batch_size=128, verbose=0))\n",
    "    ])\n",
    "}\n",
    "\n",
    "\n",
    "kfold = StratifiedKFold(n_splits=5, shuffle=True, random_state=100)\n",
    "\n",
    "#list of accuracies of ensemble\n",
    "overall_accuracies = []\n",
    "\n",
    "# Loop through each fold\n",
    "for train_index, val_index in kfold.split(features, labels):\n",
    "    \n",
    "    # Split data into train and validation sets for this fold\n",
    "    features_train, features_val = features.iloc[train_index], features.iloc[val_index]\n",
    "    labels_train, labels_val = labels.iloc[train_index], labels.iloc[val_index]\n",
    "    \n",
    "    #Predictions of each model per fold\n",
    "    fold_predictions = {model_name: [] for model_name in models}\n",
    "    #Resepctive accuracies just for debugging\n",
    "    fold_accuracy = {model_name: [] for model_name in models}\n",
    "    \n",
    "    # Train and predict for each model\n",
    "    for model_name, model in models.items():\n",
    "        model_clone = None\n",
    "        if(model_name == \"Neural Network\"):\n",
    "            model_clone = Pipeline([\n",
    "                ('scaler', StandardScaler()),\n",
    "                ('nn', KerasClassifier(model=tf_model(best_hps['num_layers'], best_hps['units'], best_hps['dropout'], best_hps['activation_function'], best_hps['learning_rate']), epochs=100, batch_size=128, verbose=0))\n",
    "            ])\n",
    "        else:\n",
    "            # Clone the model to ensure independence for each fold\n",
    "            model_clone = clone(model)\n",
    "\n",
    "        model_clone.fit(features_train, labels_train)\n",
    "\n",
    "        predictions = model_clone.predict(features_val)\n",
    "        \n",
    "        fold_accuracy[model_name] = accuracy_score(labels_val, predictions)\n",
    "        fold_predictions[model_name] = predictions\n",
    "    \n",
    "    print(fold_accuracy)\n",
    "    \n",
    "    # Take majority vote for each data record\n",
    "    stacked_arrays = np.vstack([value for value in fold_predictions.values()])\n",
    "    majority_vote_predictions, _ = mode(stacked_arrays, axis=0)\n",
    "\n",
    "    # Calculate overall accuracy for majority_vote labels\n",
    "    overall_accuracy = accuracy_score(labels_val, majority_vote_predictions)\n",
    "    overall_accuracies.append(overall_accuracy)\n",
    "\n",
    "print(\"Overall CV accuracy of ensemble: \" + str(sum(overall_accuracies) / len(overall_accuracies)))"
   ]
  },
  {
   "cell_type": "markdown",
   "metadata": {},
   "source": [
    "After ensembling the models and taking a final prediction using weighted voting, we find that the overall accuracy of the ensemble is about 0.68, which is not much of an improvement from any individual model and is about the same as the neural net. This likely indicates that each model is misclassifying the same or similar records, meaning there might be some underlying noise or bias in our dataset as a whole, or that it it is very difficult to predict whether a package reached on time with a confidence of greater than 70% using the features in this dataset. This might be due to insufficient or irrelevant features as well. \n",
    "\n",
    "If we were to choose a final model, we would likely go with just the neural net since the ensemble provides similar results to it."
   ]
  }
 ],
 "metadata": {
  "kernelspec": {
   "display_name": "Python 3 (ipykernel)",
   "language": "python",
   "name": "python3"
  },
  "language_info": {
   "codemirror_mode": {
    "name": "ipython",
    "version": 3
   },
   "file_extension": ".py",
   "mimetype": "text/x-python",
   "name": "python",
   "nbconvert_exporter": "python",
   "pygments_lexer": "ipython3",
   "version": "3.11.7"
  }
 },
 "nbformat": 4,
 "nbformat_minor": 2
}
